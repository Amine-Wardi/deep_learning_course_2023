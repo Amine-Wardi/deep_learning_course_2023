{
  "cells": [
    {
      "cell_type": "markdown",
      "metadata": {
        "id": "DmXjwSCv_quF"
      },
      "source": [
        "# IS319 - Deep Learning\n",
        "\n",
        "## TP3 - Recurrent neural networks\n",
        "\n",
        "Credits: Andrej Karpathy\n",
        "\n",
        "The goal of this TP is to experiment with recurrent neural networks for a character-level language model to generate text that looks like training text data."
      ]
    },
    {
      "cell_type": "code",
      "execution_count": 31,
      "metadata": {
        "colab": {
          "base_uri": "https://localhost:8080/"
        },
        "id": "GbyFcdlF_kQh",
        "outputId": "9474c25f-8ad8-43e0-caae-bb0950f57083"
      },
      "outputs": [
        {
          "name": "stdout",
          "output_type": "stream",
          "text": [
            "Using cpu\n"
          ]
        }
      ],
      "source": [
        "import torch\n",
        "import torch.nn as nn\n",
        "import torch.optim as optimizer\n",
        "import numpy as np\n",
        "import torch.nn.functional as F\n",
        "import torch.distributions as distributions\n",
        "import matplotlib.pyplot as plt\n",
        "device = (\n",
        "    \"cuda\"\n",
        "    if torch.cuda.is_available()\n",
        "    else \"mps\"\n",
        "    if torch.backends.mps.is_available() # For macOS\n",
        "    else \"cpu\"\n",
        ")\n",
        "print(f'Using {device}')"
      ]
    },
    {
      "cell_type": "markdown",
      "metadata": {
        "id": "gQjJoF7-_z4m"
      },
      "source": [
        "## 1. Text data preprocessing\n",
        "\n",
        "Several text datasets are provided, feel free to experiment with different ones throughout the TP. At the beginning, use a small subset of a given dataset (for example use only 10k characters)."
      ]
    },
    {
      "cell_type": "code",
      "execution_count": 2,
      "metadata": {
        "colab": {
          "base_uri": "https://localhost:8080/"
        },
        "id": "25ewBhWN_uD0",
        "outputId": "4b86f888-2240-4620-d3bf-4f60f308fac8"
      },
      "outputs": [
        {
          "name": "stdout",
          "output_type": "stream",
          "text": [
            "Dataset `shakespeare.txt` contains 10000 characters.\n",
            "Excerpt of the dataset:\n",
            "    SONNETS\n",
            "\n",
            "\n",
            "\n",
            "TO THE ONLY BEGETTER OF\n",
            "THESE INSUING SONNETS\n",
            "MR. W. H. ALL HAPPINESS\n",
            "AND THAT ETERNITY\n",
            "PROMISED BY\n",
            "OUR EVER-LIVING POET WISHETH\n",
            "THE WELL-WISHING\n",
            "ADVENTURER IN\n",
            "SETTING FORTH\n",
            "T. T.\n",
            "\n",
            "\n",
            "I.\n",
            "\n",
            "FROM fairest creatures we desire increase,\n",
            "That thereby beauty's rose might never die,\n",
            "But as the riper should by time decease,\n",
            "His tender heir might bear his memory:\n",
            "But thou, contracted to thine own bright eyes,\n",
            "Feed'st thy light'st flame with self-substantial fuel,\n",
            "Making a famine where abundance lies,\n",
            "Thyself thy foe, to thy sweet self too cruel.\n",
            "Thou that art now the world's fresh ornament\n",
            "And only herald to the gaudy spring,\n",
            "Within thine own bud buriest thy content\n",
            "And, tender churl, makest waste in niggarding.\n",
            "  Pity the world, or else this glutton be,\n",
            "  To eat the world's due, by the grave and thee.\n",
            "\n",
            "II.\n",
            "\n",
            "When forty winters shall beseige thy brow,\n",
            "And dig deep trenches in thy beauty's field,\n",
            "Thy youth's proud livery, so gazed on now,\n",
            "Will be a tatter'd weed, of small worth held:\n",
            "Then being ask'd where all thy beauty lies,\n",
            "Where all the treasure of thy lusty days,\n",
            "To say, within thine own deep-sunken eyes,\n",
            "Were an all-eating shame and thriftless praise.\n",
            "How much more praise deserved thy beauty's use,\n",
            "If thou couldst answer 'This fair child of mine\n",
            "Shall sum my count and make my old excuse,'\n",
            "Proving his beauty by succession thine!\n",
            "  This were to be new made when thou art old,\n",
            "  And see thy blood warm when thou feel'st it cold.\n",
            "\n",
            "III.\n",
            "\n",
            "Look in thy glass, and tell the face thou viewest\n",
            "Now is the time that face should form another;\n",
            "Whose fresh repair if now thou not renewest,\n",
            "Thou dost beguile the world, unbless some mother.\n",
            "For where is she so fair whose unear'd womb\n",
            "Disdains the tillage of thy husbandry?\n",
            "Or who is he so fond will be the tomb\n",
            "Of his self-love, to stop posterity?\n",
            "Thou art thy mother's glass, and she in thee\n",
            "Calls back the lovely April of her prime:\n",
            "So thou through windows of thine age shall see\n",
            "Despite of wrinkles this thy golden time.\n",
            "  But if thou\n"
          ]
        }
      ],
      "source": [
        "dir_datasets = \"./\"\n",
        "# text_data_fname = 'baudelaire.txt'  # ~0.1m characters (French)\n",
        "# text_data_fname = 'proust.txt'      # ~7.3m characters (French)\n",
        "text_data_fname = 'shakespeare.txt' # ~0.1m characters (English)\n",
        "# text_data_fname = 'lotr.txt'        # ~2.5m characters (English)\n",
        "# text_data_fname = 'doom.c'          # ~1m characters (C Code)\n",
        "# text_data_fname = 'linux.c'         # ~11.5m characters (C code)\n",
        "\n",
        "text_data = open(dir_datasets+text_data_fname, 'r').read()\n",
        "text_data = text_data[:10000] # use a small subset\n",
        "print(f'Dataset `{text_data_fname}` contains {len(text_data)} characters.')\n",
        "print('Excerpt of the dataset:')\n",
        "print(text_data[:2000])"
      ]
    },
    {
      "cell_type": "markdown",
      "metadata": {
        "id": "wExdlSewAnix"
      },
      "source": [
        "**(Question)** Create a character-level vocabulary for your text data. Create two dictionaries: `ctoi` mapping each character to an index, and the reverse `itoc` mapping each index to its corresponding character. Implement the functions to convert text to tensor and tensor to text using these mappings. Apply these functions to some text data."
      ]
    },
    {
      "cell_type": "code",
      "execution_count": 3,
      "metadata": {
        "colab": {
          "base_uri": "https://localhost:8080/"
        },
        "id": "IFxMMGlMAoLd",
        "outputId": "6b733987-d2b2-4120-b974-123a8ca772ce"
      },
      "outputs": [
        {
          "name": "stdout",
          "output_type": "stream",
          "text": [
            "[' ', 'S', 'O', 'N', 'E', 'T', '\\n', 'H', 'L', 'Y', 'B', 'G', 'R', 'F', 'I', 'U', 'M', '.', 'W', 'A', 'P', 'D', 'V', '-', 'f', 'a', 'i', 'r', 'e', 's', 't', 'c', 'u', 'w', 'd', 'n', ',', 'h', 'b', 'y', \"'\", 'o', 'm', 'g', 'v', 'p', 'l', ':', 'k', 'z', 'x', '!', ';', '?', 'C', 'q', 'j', 'X']\n",
            "{' ': 0, 'S': 1, 'O': 2, 'N': 3, 'E': 4, 'T': 5, '\\n': 6, 'H': 7, 'L': 8, 'Y': 9, 'B': 10, 'G': 11, 'R': 12, 'F': 13, 'I': 14, 'U': 15, 'M': 16, '.': 17, 'W': 18, 'A': 19, 'P': 20, 'D': 21, 'V': 22, '-': 23, 'f': 24, 'a': 25, 'i': 26, 'r': 27, 'e': 28, 's': 29, 't': 30, 'c': 31, 'u': 32, 'w': 33, 'd': 34, 'n': 35, ',': 36, 'h': 37, 'b': 38, 'y': 39, \"'\": 40, 'o': 41, 'm': 42, 'g': 43, 'v': 44, 'p': 45, 'l': 46, ':': 47, 'k': 48, 'z': 49, 'x': 50, '!': 51, ';': 52, '?': 53, 'C': 54, 'q': 55, 'j': 56, 'X': 57}\n",
            "{0: ' ', 1: 'S', 2: 'O', 3: 'N', 4: 'E', 5: 'T', 6: '\\n', 7: 'H', 8: 'L', 9: 'Y', 10: 'B', 11: 'G', 12: 'R', 13: 'F', 14: 'I', 15: 'U', 16: 'M', 17: '.', 18: 'W', 19: 'A', 20: 'P', 21: 'D', 22: 'V', 23: '-', 24: 'f', 25: 'a', 26: 'i', 27: 'r', 28: 'e', 29: 's', 30: 't', 31: 'c', 32: 'u', 33: 'w', 34: 'd', 35: 'n', 36: ',', 37: 'h', 38: 'b', 39: 'y', 40: \"'\", 41: 'o', 42: 'm', 43: 'g', 44: 'v', 45: 'p', 46: 'l', 47: ':', 48: 'k', 49: 'z', 50: 'x', 51: '!', 52: ';', 53: '?', 54: 'C', 55: 'q', 56: 'j', 57: 'X'}\n",
            "tensor([ 0,  0,  0,  ..., 45, 32, 45])\n"
          ]
        }
      ],
      "source": [
        "# Create the vocabulary and the two mapping dictionaries\n",
        "def create_vocab(text):\n",
        "    vocab, ctoi, itoc = [], {}, {}\n",
        "    for character in text :\n",
        "        if character not in vocab :\n",
        "            vocab += [character]\n",
        "            ctoi[character] = vocab.index(character)\n",
        "            itoc[vocab.index(character)] = character\n",
        "    return vocab, ctoi, itoc\n",
        "\n",
        "\n",
        "# Implement the function converting text to tensor\n",
        "def text_to_tensor(text, ctoi):\n",
        "    arr = np.zeros((len(text)))\n",
        "    for idx, char in enumerate(text):\n",
        "        arr[idx] = ctoi[char]\n",
        "    return torch.tensor(arr, dtype=torch.long).to(device)\n",
        "\n",
        "\n",
        "\n",
        "# Implement the function converting tensor to text\n",
        "def tensor_to_text(tensor, itoc):\n",
        "    arr = tensor.cpu().detach().numpy()\n",
        "    text = \"\"\n",
        "    for elm in arr :\n",
        "        text+=itoc[elm]\n",
        "    return text\n",
        "\n",
        "# Apply your functions to some text data\n",
        "\n",
        "vocab, ctoi, itoc = create_vocab(text_data)\n",
        "\n",
        "print(vocab)\n",
        "print(ctoi)\n",
        "print(itoc)\n",
        "\n",
        "example_tensor = text_to_tensor(text_data, ctoi)\n",
        "print(example_tensor)\n",
        "\n",
        "example_text = tensor_to_text(example_tensor, itoc)\n",
        "# verify integrity\n",
        "assert example_text == text_data"
      ]
    },
    {
      "cell_type": "markdown",
      "metadata": {
        "id": "EpAmk7FZAp41"
      },
      "source": [
        "## 2. Setup a character-level recurrent neural network\n",
        "\n",
        "**(Question)** Setup a simple embedding layer with `nn.Embedding` to project character indices to `embedding_dim` dimensional vectors. Explain precisely how this layer works and what are its outputs for a given input sequence."
      ]
    },
    {
      "cell_type": "code",
      "execution_count": 4,
      "metadata": {
        "colab": {
          "base_uri": "https://localhost:8080/"
        },
        "id": "c8OWfLIWAvGA",
        "outputId": "2d39bc45-7534-4de9-d581-979ba9893da5"
      },
      "outputs": [
        {
          "name": "stdout",
          "output_type": "stream",
          "text": [
            "tensor([[-0.5878, -0.4023,  0.5235,  ...,  1.7100,  0.2531, -0.4672],\n",
            "        [-0.5878, -0.4023,  0.5235,  ...,  1.7100,  0.2531, -0.4672],\n",
            "        [-0.5878, -0.4023,  0.5235,  ...,  1.7100,  0.2531, -0.4672],\n",
            "        ...,\n",
            "        [ 0.3893, -0.8002, -0.2066,  ..., -0.1047,  1.1033,  2.0073],\n",
            "        [-0.7658,  1.2946, -1.1468,  ..., -1.7767,  2.5461,  0.0555],\n",
            "        [ 0.3893, -0.8002, -0.2066,  ..., -0.1047,  1.1033,  2.0073]],\n",
            "       grad_fn=<EmbeddingBackward0>)\n"
          ]
        }
      ],
      "source": [
        "# n_vocab : the total number of unique indices that the embedding layer can handle.\n",
        "# n_dim : the size of the vector space in which the indices will be embedded.\n",
        "n_vocab, n_dim = len(vocab), 10\n",
        "\n",
        "# initiate the Embedding layer\n",
        "emb_layer = nn.Embedding(n_vocab, embedding_dim=n_dim).to(device)\n",
        "\n",
        "# given the example tensor generate an embedding of each index (indirectly character) of the text\n",
        "emb_data = emb_layer(example_tensor)\n",
        "\n",
        "print(emb_data)"
      ]
    },
    {
      "cell_type": "markdown",
      "metadata": {
        "id": "4tfWqlErAw05"
      },
      "source": [
        "**(Question)** Setup a single-layer RNN with `nn.RNN` (without defining a custom class). Use `hidden_dim` size for hidden states. Explain precisely the outputs of this layer for a given input sequence."
      ]
    },
    {
      "cell_type": "code",
      "execution_count": 5,
      "metadata": {
        "colab": {
          "base_uri": "https://localhost:8080/"
        },
        "id": "ZIavuw40AyXL",
        "outputId": "f90a7867-9800-447f-ba84-698e13188e1c"
      },
      "outputs": [
        {
          "name": "stdout",
          "output_type": "stream",
          "text": [
            "torch.Size([10000, 16]) tensor([[ 0.2906, -0.5157,  0.5501,  ...,  0.3391, -0.1564,  0.1479],\n",
            "        [ 0.3277, -0.4425,  0.4601,  ...,  0.3865, -0.1235,  0.4458],\n",
            "        [ 0.3392, -0.4136,  0.5515,  ...,  0.4074, -0.2332,  0.2791],\n",
            "        ...,\n",
            "        [ 0.1011,  0.2952,  0.0370,  ...,  0.4565,  0.0609, -0.1029],\n",
            "        [ 0.5068,  0.2476, -0.1606,  ..., -0.8468,  0.9422, -0.3244],\n",
            "        [-0.2022, -0.1975,  0.4942,  ..., -0.2747,  0.4718, -0.7326]],\n",
            "       grad_fn=<SqueezeBackward1>)\n",
            "tensor([[-0.2022, -0.1975,  0.4942, -0.6849, -0.6139, -0.8608, -0.9111, -0.7187,\n",
            "         -0.8841,  0.7647, -0.0874, -0.2705,  0.5366, -0.2747,  0.4718, -0.7326]],\n",
            "       grad_fn=<SqueezeBackward1>)\n"
          ]
        }
      ],
      "source": [
        "input_size, hidden_size = 10, 16\n",
        "rnn_layer = nn.RNN(input_size, hidden_size).to(device)\n",
        "\n",
        "# Initialize the hidden state\n",
        "hidden_state = torch.zeros(1, hidden_size).to(device)\n",
        "\n",
        "# run the embedded data through the RNN\n",
        "output_sequence, final_hidden_state = rnn_layer(emb_data, hidden_state)\n",
        "\n",
        "print(output_sequence.shape, output_sequence)\n",
        "print(final_hidden_state)"
      ]
    },
    {
      "cell_type": "markdown",
      "metadata": {
        "id": "KL73a2l5A0s6"
      },
      "source": [
        "## Answer :\n",
        "The `output_sequence` represents the output of the RNN at each time step when it processes an input sequence. It is a tensor that contains the predicted value for each hidden state at each time step in the sequence. And the `final_hidden_state` is, as shown, the final hidden state of the layer.\n",
        "****"
      ]
    },
    {
      "cell_type": "markdown",
      "metadata": {
        "id": "SOP6ZfNaA4tu"
      },
      "source": [
        "**(Question)** Implement a simple training loop to overfit on a small input sequence. The loss function should be a categorical cross entropy on the predicted characters. Monitor the loss function value over the iterations."
      ]
    },
    {
      "cell_type": "code",
      "execution_count": 24,
      "metadata": {
        "colab": {
          "base_uri": "https://localhost:8080/"
        },
        "id": "jpgplzg5A38a",
        "outputId": "3ddc2afc-e810-41ef-9de8-86f69ee30056"
      },
      "outputs": [
        {
          "name": "stdout",
          "output_type": "stream",
          "text": [
            "Iteration 50/900, Loss: 4.256770610809326\n",
            "Iteration 100/900, Loss: 2.87568998336792\n",
            "Iteration 150/900, Loss: 1.7066768407821655\n",
            "Iteration 200/900, Loss: 0.9677966237068176\n",
            "Iteration 250/900, Loss: 0.5831930637359619\n",
            "Iteration 300/900, Loss: 0.3865405321121216\n",
            "Iteration 350/900, Loss: 0.27759045362472534\n",
            "Iteration 400/900, Loss: 0.21128316223621368\n",
            "Iteration 450/900, Loss: 0.16761454939842224\n",
            "Iteration 500/900, Loss: 0.1370665282011032\n",
            "Iteration 550/900, Loss: 0.11468390375375748\n",
            "Iteration 600/900, Loss: 0.09769631177186966\n",
            "Iteration 650/900, Loss: 0.08444388210773468\n",
            "Iteration 700/900, Loss: 0.07387518137693405\n",
            "Iteration 750/900, Loss: 0.06529081612825394\n",
            "Iteration 800/900, Loss: 0.05820725858211517\n",
            "Iteration 850/900, Loss: 0.05228080227971077\n",
            "Iteration 900/900, Loss: 0.04726152494549751\n"
          ]
        }
      ],
      "source": [
        "# Sample a small input sequence into tensor `input_seq` and store its corresponding expected sequence into tensor `target_seq`\n",
        "input_seq = torch.arange(0, 200).long().to(device)\n",
        "target_seq = input_seq.clone().to(device)\n",
        "\n",
        "# Implement a training loop overfitting an input sequence and monitoring the loss function\n",
        "def train_overfit(model, input_seq, target_seq, optim, loss_function, n_iters=200, learning_rate=0.002, check_iter=50):\n",
        "\n",
        "    for i in range(n_iters):\n",
        "        # Forward pass\n",
        "        output, hidden = model(input_seq.unsqueeze(0))  # Add batch dimension\n",
        "        loss = loss_function(output.squeeze(0), target_seq)\n",
        "\n",
        "        # Backward pass and optimization\n",
        "        optim.zero_grad()\n",
        "        loss.backward()\n",
        "        optim.step()\n",
        "\n",
        "        if (i + 1) % check_iter == 0:\n",
        "            print(f\"Iteration {i + 1}/{n_iters}, Loss: {loss.item()}\")\n",
        "\n",
        "# Initialize a model and make it overfit the input sequence\n",
        "class simpleRNN(nn.Module):\n",
        "    def __init__(self, input_size, hidden_size, output_size):\n",
        "        super(simpleRNN, self).__init__()\n",
        "        self.embedding = nn.Embedding(input_size, hidden_size).to(device)\n",
        "        self.rnn = nn.RNN(hidden_size, hidden_size, batch_first=True).to(device)\n",
        "        self.fc = nn.Linear(hidden_size, output_size).to(device)\n",
        "\n",
        "    def forward(self, x):\n",
        "        x = self.embedding(x)\n",
        "        output, hidden = self.rnn(x)\n",
        "        output = self.fc(output)\n",
        "        return output, hidden\n",
        "\n",
        "# Initialize the model, loss function, and optimizer (Adam)\n",
        "input_size, hidden_size, output_size, learning_rate = 200, 16, 200, 0.002\n",
        "model = simpleRNN(input_size, hidden_size, output_size).to(device)\n",
        "optim = optimizer.Adam(model.parameters(), lr=learning_rate)\n",
        "loss_function = nn.CrossEntropyLoss().to(device)\n",
        "\n",
        "# train the model\n",
        "train_overfit(model, input_seq, target_seq, optim, loss_function, n_iters=900)"
      ]
    },
    {
      "cell_type": "markdown",
      "metadata": {
        "id": "IK0NzXOuA9Sc"
      },
      "source": [
        "**(Question)** Implement a `predict_argmax` method for your `RNN` model. Then, verify your overfitting: use some characters of your input sequence as context to predict the remaining ones. Experiment with the current model and analyze the results."
      ]
    },
    {
      "cell_type": "code",
      "execution_count": 27,
      "metadata": {
        "colab": {
          "base_uri": "https://localhost:8080/"
        },
        "id": "clAfcYtRA-jO",
        "outputId": "0f254842-5c99-4f0d-a1ee-22f4df8944ea"
      },
      "outputs": [
        {
          "name": "stdout",
          "output_type": "stream",
          "text": [
            "Iteration 50/900, Loss: 4.276690483093262\n",
            "Iteration 100/900, Loss: 2.8943259716033936\n",
            "Iteration 150/900, Loss: 1.706049919128418\n",
            "Iteration 200/900, Loss: 0.9533588886260986\n",
            "Iteration 250/900, Loss: 0.5674981474876404\n",
            "Iteration 300/900, Loss: 0.37381160259246826\n",
            "Iteration 350/900, Loss: 0.26604777574539185\n",
            "Iteration 400/900, Loss: 0.2003570944070816\n",
            "Iteration 450/900, Loss: 0.15754812955856323\n",
            "Iteration 500/900, Loss: 0.12801118195056915\n",
            "Iteration 550/900, Loss: 0.10665475577116013\n",
            "Iteration 600/900, Loss: 0.09060660004615784\n",
            "Iteration 650/900, Loss: 0.07816838473081589\n",
            "Iteration 700/900, Loss: 0.06828247755765915\n",
            "Iteration 750/900, Loss: 0.06026414781808853\n",
            "Iteration 800/900, Loss: 0.05365373194217682\n",
            "Iteration 850/900, Loss: 0.04812970012426376\n",
            "Iteration 900/900, Loss: 0.04345893859863281\n",
            "tensor([ 0,  1,  2,  3,  4,  5,  6,  7,  8,  9, 10, 11, 12, 13, 14, 15, 16, 17,\n",
            "        18, 19, 20, 21, 22, 23, 24, 25, 26, 27, 28, 29]) tensor([29, 30, 31])\n",
            "tensor([29, 30, 31]) [29, 29, 29]\n"
          ]
        }
      ],
      "source": [
        "class CharRNN(simpleRNN):\n",
        "    def predict_argmax(self, context_tensor, n_predictions):\n",
        "        predictions, hidden = [], None\n",
        "\n",
        "        # Use the context tensor to apply the forward pass for the context tensor\n",
        "        for char_index in context_tensor:\n",
        "            output, hidden = self.forward(char_index.unsqueeze(0).unsqueeze(0))\n",
        "\n",
        "        # Predict the next n_predictions indices\n",
        "        for _ in range(n_predictions):\n",
        "            # Forward pass with the last index and hidden state\n",
        "            output, hidden = self.forward(context_tensor[-1].unsqueeze(0).unsqueeze(0))\n",
        "\n",
        "            # Get the index of the predicted index using argmax\n",
        "            predicted_index = output.squeeze(0).argmax().item()\n",
        "            predictions.append(predicted_index)\n",
        "\n",
        "            # Update the context tensor with the new prediction\n",
        "            context_tensor = torch.cat((context_tensor, torch.tensor([predicted_index]).to(device)))\n",
        "\n",
        "        return predictions\n",
        "\n",
        "# Initialize a model and make it overfit as above\n",
        "# Then, verify your overfitting by predicting characters given some context\n",
        "model = CharRNN(input_size, hidden_size, output_size).to(device)\n",
        "optim = optimizer.Adam(model.parameters(), lr=learning_rate)\n",
        "loss_function = nn.CrossEntropyLoss().to(device)\n",
        "\n",
        "train_overfit(model, input_seq, target_seq, optim, loss_function, n_iters=900)"
      ]
    },
    {
      "cell_type": "code",
      "execution_count": 30,
      "metadata": {
        "colab": {
          "base_uri": "https://localhost:8080/"
        },
        "id": "pOP-VlA9hXDP",
        "outputId": "790e5271-fab6-4b7b-c410-968a8ecd897c"
      },
      "outputs": [
        {
          "name": "stdout",
          "output_type": "stream",
          "text": [
            "tensor([30, 31, 32]) [29, 29, 29]\n"
          ]
        }
      ],
      "source": [
        "# predict 3 indices\n",
        "print(target_seq[30:33], model.predict_argmax(input_seq[:30], n_predictions=3))"
      ]
    },
    {
      "cell_type": "markdown",
      "metadata": {
        "id": "Bml7Vn4PBEoJ"
      },
      "source": [
        "Using the argmax function to predict the next character can yield a deterministic generator always predicting the same characters. Instead, it is common to predict the next character by sampling from the distribution of output predictions, adding some randomness into the generator.\n",
        "\n",
        "**(Question)** Implement a `predict_proba` method for your `RNN` model. It should be very similar to `predict_argmax`, but instead of using argmax, it should randomly sample from the output predictions. To do that, you can use the `torch.distribution.Categorical` class and its `sample()` method. Verify that your method correctly added some randomness."
      ]
    },
    {
      "cell_type": "code",
      "execution_count": 34,
      "metadata": {
        "colab": {
          "base_uri": "https://localhost:8080/"
        },
        "id": "WiXNLU2TBD0E",
        "outputId": "ce5cd123-3f44-49bc-f9de-f198ac1b5074"
      },
      "outputs": [
        {
          "name": "stdout",
          "output_type": "stream",
          "text": [
            "Iteration 50/900, Loss: 4.2722392082214355\n",
            "Iteration 100/900, Loss: 2.8732962608337402\n",
            "Iteration 150/900, Loss: 1.6952910423278809\n",
            "Iteration 200/900, Loss: 0.9506286382675171\n",
            "Iteration 250/900, Loss: 0.5644074082374573\n",
            "Iteration 300/900, Loss: 0.36946171522140503\n",
            "Iteration 350/900, Loss: 0.26259541511535645\n",
            "Iteration 400/900, Loss: 0.19822251796722412\n",
            "Iteration 450/900, Loss: 0.15631602704524994\n",
            "Iteration 500/900, Loss: 0.12732800841331482\n",
            "Iteration 550/900, Loss: 0.1062973141670227\n",
            "Iteration 600/900, Loss: 0.09045511484146118\n",
            "Iteration 650/900, Loss: 0.07815736532211304\n",
            "Iteration 700/900, Loss: 0.06837471574544907\n",
            "Iteration 750/900, Loss: 0.06043390929698944\n",
            "Iteration 800/900, Loss: 0.053878478705883026\n",
            "Iteration 850/900, Loss: 0.04838962107896805\n",
            "Iteration 900/900, Loss: 0.04373795539140701\n"
          ]
        }
      ],
      "source": [
        "class CharRNN(CharRNN):\n",
        "    def predict_proba(self, context_tensor, n_predictions):\n",
        "        predictions, hidden = [], None\n",
        "\n",
        "        # Use the context tensor to apply the forward pass for the context tensor\n",
        "        for char_index in context_tensor:\n",
        "            output, hidden = self.forward(char_index.unsqueeze(0).unsqueeze(0))\n",
        "\n",
        "        # Predict the next n_predictions characters by sampling from the distribution\n",
        "        for _ in range(n_predictions):\n",
        "            # Forward pass with the last character and hidden state\n",
        "            output, hidden = self.forward(context_tensor[-1].unsqueeze(0).unsqueeze(0))\n",
        "\n",
        "            # Use Categorical distribution to sample from the predicted probabilities\n",
        "            categorical_dist = distributions.Categorical(logits=output.squeeze(0))\n",
        "            predicted_index = categorical_dist.sample().item()\n",
        "            predictions.append(predicted_index)\n",
        "\n",
        "            # Update the context tensor with the new prediction\n",
        "            context_tensor = torch.cat((context_tensor, torch.tensor([predicted_index]).to(device)))\n",
        "\n",
        "        return predictions\n",
        "\n",
        "# Verify that your predictions are not deterministic anymore\n",
        "model = CharRNN(input_size, hidden_size, output_size).to(device)\n",
        "optim = optimizer.Adam(model.parameters(), lr=learning_rate)\n",
        "loss_function = nn.CrossEntropyLoss().to(device)\n",
        "\n",
        "train_overfit(model, input_seq, target_seq, optim, loss_function, n_iters=900)"
      ]
    },
    {
      "cell_type": "code",
      "execution_count": 37,
      "metadata": {
        "colab": {
          "base_uri": "https://localhost:8080/"
        },
        "id": "0ssVtW66iqyT",
        "outputId": "70ccedcf-7cd3-4036-ab83-695bc55d8fa3"
      },
      "outputs": [
        {
          "name": "stdout",
          "output_type": "stream",
          "text": [
            "tensor([30, 31, 32, 33, 34]) [29, 166, 166, 168, 168]\n"
          ]
        }
      ],
      "source": [
        "# predict 3 indices\n",
        "print(target_seq[30:35], model.predict_proba(input_seq[:30], n_predictions=5))"
      ]
    },
    {
      "cell_type": "markdown",
      "metadata": {
        "id": "fhi7t0hKBJNM"
      },
      "source": [
        "## 3. Train the RNN model on text data\n",
        "\n",
        "**(Question)** Adapt your previous code to implement a proper training loop for a text dataset. To do so, we need to specify a sequence length `seq_len`, acting similarly to the batch size in classic neural networks. Then, you can either randomly sample sequences of length `seq_len` from the text dataset over `n_iters` iterations, or properly loop over the text dataset for `n_epochs` epochs (with a random starting point for each epoch to ensure different sequences), to make sure the whole dataset is seen by the model. Feel free to adjust training and model parameters empirically. Start with a small model and a small subset of the text dataset, then move on to larger experiments. Remember to use GPU if available."
      ]
    },
    {
      "cell_type": "code",
      "execution_count": null,
      "metadata": {
        "id": "WIC8rES-BLrU"
      },
      "outputs": [],
      "source": [
        "# Create the text dataset, compute its mappings and convert it to tensor\n",
        "# YOUR CODE HERE\n",
        "raise NotImplementedError()\n",
        "\n",
        "# Initialize training parameters\n",
        "# YOUR CODE HERE\n",
        "raise NotImplementedError()\n",
        "\n",
        "# Initialize a character-level RNN model\n",
        "# YOUR CODE HERE\n",
        "raise NotImplementedError()\n",
        "\n",
        "# Setup the training loop\n",
        "# Regularly record the loss and sample from the model to monitor what is happening\n",
        "# YOUR CODE HERE\n",
        "raise NotImplementedError()"
      ]
    },
    {
      "cell_type": "markdown",
      "metadata": {
        "id": "UryaOe-JBN7A"
      },
      "source": [
        "**(Question)** From your trained model, play around with its predictions: start with a custom input sequence and ask the model to predict the rest. Analyze and comment your results."
      ]
    },
    {
      "cell_type": "code",
      "execution_count": null,
      "metadata": {
        "id": "0YNuDwx2BPEz"
      },
      "outputs": [],
      "source": [
        "# YOUR CODE HERE\n",
        "raise NotImplementedError()"
      ]
    },
    {
      "cell_type": "markdown",
      "metadata": {
        "id": "tafoNLnIBQUY"
      },
      "source": [
        "## Answer :\n",
        "****"
      ]
    },
    {
      "cell_type": "markdown",
      "metadata": {
        "id": "wHwYCrJ9BUc3"
      },
      "source": [
        "## 4. Experiment with different RNN architectures\n",
        "\n",
        "**(Question)** Experiment with different RNN architecures. Potential ideas are multi-layer RNNs, GRUs and LSTMs. All models can be extended to multi-layer using the `num_layers` parameter. Analyze and comment your results."
      ]
    },
    {
      "cell_type": "code",
      "execution_count": null,
      "metadata": {
        "id": "aPKB7NtbBTOz"
      },
      "outputs": [],
      "source": [
        "# YOUR CODE HERE\n",
        "raise NotImplementedError()"
      ]
    },
    {
      "cell_type": "markdown",
      "metadata": {
        "id": "klKuqVJTBX0A"
      },
      "source": [
        "## Answer :\n",
        "****"
      ]
    }
  ],
  "metadata": {
    "colab": {
      "provenance": []
    },
    "kernelspec": {
      "display_name": "Python 3",
      "name": "python3"
    },
    "language_info": {
      "name": "python"
    }
  },
  "nbformat": 4,
  "nbformat_minor": 0
}
