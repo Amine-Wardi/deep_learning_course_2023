{
 "cells": [
  {
   "cell_type": "markdown",
   "id": "8c3c813b-abc1-4521-bf2a-1a195ad2da6e",
   "metadata": {
    "deletable": false,
    "editable": false,
    "nbgrader": {
     "cell_type": "markdown",
     "checksum": "34bbe1074db747e604c1aab84f362e9c",
     "grade": false,
     "grade_id": "cell-7b1959ecd2c62548",
     "locked": true,
     "schema_version": 3,
     "solution": false,
     "task": false
    }
   },
   "source": [
    "# IS319 - Deep Learning\n",
    "\n",
    "## TP2 - Dogs vs. cats (PyTorch)\n",
    "\n",
    "Credits: Baptiste Pesquet\n",
    "\n",
    "![Woof Meow](woof_meow.jpg)\n",
    "\n",
    "In this TP, the goal is to train neural networks to classify images of dogs and cats, using the PyTorch library.\n",
    "\n",
    "The images used in this TP are extracted from the [Dogs vs. Cats](https://www.kaggle.com/c/dogs-vs-cats/) dataset available on Kaggle, which contains 25000 images. First, we use a subset of 2000 images to decrease training time, for educational purposes. Later on, you can experiment with the full dataset using a GPU.\n",
    "\n",
    "Most questions are open-ended: feel free to experiment with different settings. **Remember to analyze and explain what you are doing in additional cells.**"
   ]
  },
  {
   "cell_type": "markdown",
   "id": "2b44e152-6484-40f9-8713-5a411ee06b9a",
   "metadata": {
    "deletable": false,
    "editable": false,
    "nbgrader": {
     "cell_type": "markdown",
     "checksum": "fc30c9db1c202c66c9ec197cf57da033",
     "grade": false,
     "grade_id": "cell-8934ca00dfe91c84",
     "locked": true,
     "schema_version": 3,
     "solution": false,
     "task": false
    }
   },
   "source": [
    "## Environment setup"
   ]
  },
  {
   "cell_type": "code",
   "execution_count": null,
   "id": "efffbe0d-e28b-490c-9453-b0502e3ecf58",
   "metadata": {},
   "outputs": [],
   "source": [
    "import os\n",
    "import zipfile\n",
    "import numpy as np\n",
    "import matplotlib.pyplot as plt"
   ]
  },
  {
   "cell_type": "code",
   "execution_count": null,
   "id": "1781adad-7e2b-4b7d-adde-88cd48dbf2d8",
   "metadata": {},
   "outputs": [],
   "source": [
    "# Import PyTorch modules (edit this list if needed)\n",
    "import torch\n",
    "print(f'PyTorch version: {torch.__version__}')\n",
    "import torchvision\n",
    "import torchvision.transforms as transforms\n",
    "import torch.nn as nn\n",
    "import torch.nn.functional as F"
   ]
  },
  {
   "cell_type": "markdown",
   "id": "ecd7f3df-9e6d-4725-8c93-2848aa7ea877",
   "metadata": {
    "deletable": false,
    "editable": false,
    "nbgrader": {
     "cell_type": "markdown",
     "checksum": "948c6d315911a8becb8c94d0c59adf71",
     "grade": false,
     "grade_id": "cell-08970168466c31ac",
     "locked": true,
     "schema_version": 3,
     "solution": false,
     "task": false
    }
   },
   "source": [
    "## 1. Load and explore the dataset"
   ]
  },
  {
   "cell_type": "code",
   "execution_count": null,
   "id": "39a6f0b2-732f-4bcc-bcb8-da9afb57f792",
   "metadata": {},
   "outputs": [],
   "source": [
    "# Downloading our example data, a .zip of 2000 JPG pictures, and extracting it locally in `/tmp`\n",
    "!wget --no-check-certificate --no-clobber \\\n",
    "    https://storage.googleapis.com/mledu-datasets/cats_and_dogs_filtered.zip \\\n",
    "    -O /tmp/cats_and_dogs_filtered.zip\n",
    "\n",
    "# Extracting zip file to the base directory `/tmp/cats_and_dogs_filtered`\n",
    "local_zip = '/tmp/cats_and_dogs_filtered.zip'\n",
    "zip_ref = zipfile.ZipFile(local_zip, 'r')\n",
    "zip_ref.extractall('/tmp')\n",
    "zip_ref.close()\n",
    "\n",
    "base_dir = '/tmp/cats_and_dogs_filtered'\n",
    "train_dir = os.path.join(base_dir, 'train')\n",
    "valid_dir = os.path.join(base_dir, 'validation')\n",
    "\n",
    "# Directories with training/validation cat/dogs pictures\n",
    "train_cats_dir = os.path.join(train_dir, 'cats')\n",
    "train_dogs_dir = os.path.join(train_dir, 'dogs')\n",
    "valid_cats_dir = os.path.join(valid_dir, 'cats')\n",
    "valid_dogs_dir = os.path.join(valid_dir, 'dogs')\n",
    "\n",
    "# Display the sizes of our dataset\n",
    "print(f'Number of train cat images: {len(os.listdir(train_cats_dir))}')\n",
    "print(f'Number of train dog images: {len(os.listdir(train_dogs_dir))}')\n",
    "print(f'Number of valid cat images: {len(os.listdir(valid_cats_dir))}')\n",
    "print(f'Number of valid dog images: {len(os.listdir(valid_dogs_dir))}')\n",
    "\n",
    "# Display some images files for cats and dogs\n",
    "train_cat_fnames = os.listdir(train_cats_dir)\n",
    "print(train_cat_fnames[:10])\n",
    "train_dog_fnames = os.listdir(train_dogs_dir)\n",
    "print(train_dog_fnames[:10])"
   ]
  },
  {
   "cell_type": "markdown",
   "id": "db00227e-c183-4334-bd8e-2a6e3c23f52e",
   "metadata": {
    "deletable": false,
    "editable": false,
    "nbgrader": {
     "cell_type": "markdown",
     "checksum": "d54a123abf191dae8d2ba6a42fdd5b93",
     "grade": false,
     "grade_id": "cell-53e5d83c2c9037b5",
     "locked": true,
     "schema_version": 3,
     "solution": false,
     "task": false
    }
   },
   "source": [
    "**(Question)** Display some images of cats and dogs from the train set and the validation set."
   ]
  },
  {
   "cell_type": "code",
   "execution_count": null,
   "id": "31a1c8c1-618b-4db1-a96a-d9c9aab9fc3d",
   "metadata": {
    "deletable": false,
    "nbgrader": {
     "cell_type": "code",
     "checksum": "dcc03539fc7edfdfa9b7dbc9bbd3ca86",
     "grade": true,
     "grade_id": "show-dataset",
     "locked": false,
     "points": 1,
     "schema_version": 3,
     "solution": true,
     "task": false
    }
   },
   "outputs": [],
   "source": [
    "# YOUR CODE HERE\n",
    "raise NotImplementedError()"
   ]
  },
  {
   "cell_type": "markdown",
   "id": "0f9a0050-df51-4b9c-9721-b805b6285dbb",
   "metadata": {
    "deletable": false,
    "editable": false,
    "nbgrader": {
     "cell_type": "markdown",
     "checksum": "ad4d6d83526007661fb021758ed4b6fd",
     "grade": false,
     "grade_id": "cell-185b7854a270aa22",
     "locked": true,
     "schema_version": 3,
     "solution": false,
     "task": false
    }
   },
   "source": [
    "## 2. Prepare the dataset"
   ]
  },
  {
   "cell_type": "markdown",
   "id": "554da00f-8efb-4d24-9d14-7e736c1d764d",
   "metadata": {
    "deletable": false,
    "editable": false,
    "nbgrader": {
     "cell_type": "markdown",
     "checksum": "da8ab538e08069f6a3e4335912a349df",
     "grade": false,
     "grade_id": "cell-fa815aa70c9023a0",
     "locked": true,
     "schema_version": 3,
     "solution": false,
     "task": false
    }
   },
   "source": [
    "**(Question)** Following the documentation, create a custom `torch.utils.data.Dataset` class to handle your train and validation datasets. Allow this class to resize images and normalize them. Then, create a `DataLoader` for train and validation datasets to handle shuffling and batches."
   ]
  },
  {
   "cell_type": "code",
   "execution_count": null,
   "id": "18c150cf-710c-475a-96b2-cbbba0e3b0be",
   "metadata": {
    "deletable": false,
    "nbgrader": {
     "cell_type": "code",
     "checksum": "52ccd0c48e33d03e0993081c127fd17a",
     "grade": true,
     "grade_id": "pytorch-dataset",
     "locked": false,
     "points": 2,
     "schema_version": 3,
     "solution": true,
     "task": false
    },
    "tags": []
   },
   "outputs": [],
   "source": [
    "# YOUR CODE HERE\n",
    "raise NotImplementedError()"
   ]
  },
  {
   "cell_type": "markdown",
   "id": "fde8645d-0123-4518-a256-9d67187ed81a",
   "metadata": {
    "deletable": false,
    "editable": false,
    "nbgrader": {
     "cell_type": "markdown",
     "checksum": "393459ae23815fbc3bee36d90c9cceba",
     "grade": false,
     "grade_id": "cell-48efca249b6c6644",
     "locked": true,
     "schema_version": 3,
     "solution": false,
     "task": false
    }
   },
   "source": [
    "## 3. Training CNN models"
   ]
  },
  {
   "cell_type": "markdown",
   "id": "0910a855-9c27-407b-beaf-15f38237b4a5",
   "metadata": {
    "deletable": false,
    "editable": false,
    "nbgrader": {
     "cell_type": "markdown",
     "checksum": "50c6b2aaa42d5b277327cacfe1f5a753",
     "grade": false,
     "grade_id": "cell-c041028881767f33",
     "locked": true,
     "schema_version": 3,
     "solution": false,
     "task": false
    }
   },
   "source": [
    "**(Question)** Create a CNN classification model able to be trained on your dataset. Show the model and its number of parameters."
   ]
  },
  {
   "cell_type": "code",
   "execution_count": null,
   "id": "ad69cf19-eb96-4a4c-9e17-f26aafb65749",
   "metadata": {
    "deletable": false,
    "nbgrader": {
     "cell_type": "code",
     "checksum": "b44f17e29f2a8871913c36d7eb919275",
     "grade": true,
     "grade_id": "model",
     "locked": false,
     "points": 2,
     "schema_version": 3,
     "solution": true,
     "task": false
    },
    "tags": []
   },
   "outputs": [],
   "source": [
    "# YOUR CODE HERE\n",
    "raise NotImplementedError()"
   ]
  },
  {
   "cell_type": "markdown",
   "id": "76b68502-5290-4158-930e-7eab0f5938a8",
   "metadata": {
    "deletable": false,
    "editable": false,
    "nbgrader": {
     "cell_type": "markdown",
     "checksum": "bfbf246cdc64d87778553b5f59670847",
     "grade": false,
     "grade_id": "cell-2ecf1b6e4264d73e",
     "locked": true,
     "schema_version": 3,
     "solution": false,
     "task": false
    }
   },
   "source": [
    "**(Question)** Using PyTorch, implement a training loop with your model and an appropriate loss function."
   ]
  },
  {
   "cell_type": "code",
   "execution_count": null,
   "id": "aa3408b2-d161-4e37-8559-744e55a2b727",
   "metadata": {
    "deletable": false,
    "nbgrader": {
     "cell_type": "code",
     "checksum": "77aa0861af2d9340d3c9212575c2b060",
     "grade": true,
     "grade_id": "training-loop",
     "locked": false,
     "points": 3,
     "schema_version": 3,
     "solution": true,
     "task": false
    }
   },
   "outputs": [],
   "source": [
    "# YOUR CODE HERE\n",
    "raise NotImplementedError()"
   ]
  },
  {
   "cell_type": "markdown",
   "id": "da16a696-04d5-4ecc-a634-4f5f1d2d94f0",
   "metadata": {
    "deletable": false,
    "editable": false,
    "nbgrader": {
     "cell_type": "markdown",
     "checksum": "731b5ccfa6b96f1a1ee5a2896192cafd",
     "grade": false,
     "grade_id": "model-training",
     "locked": true,
     "points": 3,
     "schema_version": 3,
     "solution": false,
     "task": true
    }
   },
   "source": [
    "**(Question)** Train your model. Monitor train and validation accuracy. Analyze your results."
   ]
  },
  {
   "cell_type": "code",
   "execution_count": null,
   "id": "d4298339-522d-4887-b95d-a0915976a6e4",
   "metadata": {
    "deletable": false,
    "nbgrader": {
     "cell_type": "code",
     "checksum": "f3b9adb67d0a00d991306f24194d642b",
     "grade": true,
     "grade_id": "cell-c08575b20a8e25de",
     "locked": false,
     "points": 0,
     "schema_version": 3,
     "solution": true,
     "task": false
    }
   },
   "outputs": [],
   "source": [
    "# YOUR CODE HERE\n",
    "raise NotImplementedError()"
   ]
  },
  {
   "cell_type": "markdown",
   "id": "7844dbcc-089d-4a89-8405-791dacbd3e9e",
   "metadata": {
    "deletable": false,
    "editable": false,
    "nbgrader": {
     "cell_type": "markdown",
     "checksum": "3df7ce0be71f935883c51b78b5fa1723",
     "grade": false,
     "grade_id": "cell-e70c4020826bc297",
     "locked": true,
     "points": 0,
     "schema_version": 3,
     "solution": false,
     "task": true
    }
   },
   "source": []
  },
  {
   "cell_type": "markdown",
   "id": "7d57d881-774e-44f1-9f76-47a9c74ea5d0",
   "metadata": {
    "deletable": false,
    "editable": false,
    "nbgrader": {
     "cell_type": "markdown",
     "checksum": "b04704a4970e173a2173c642d160a7f8",
     "grade": false,
     "grade_id": "cell-8d1a2845e80b4b10",
     "locked": true,
     "schema_version": 3,
     "solution": false,
     "task": false
    }
   },
   "source": [
    "**(Question)** Make sure your code is using a GPU if one is available. Modify your code accordingly, if necessary. What kind of speedup do you observe? "
   ]
  },
  {
   "cell_type": "markdown",
   "id": "2755cc3c-272d-4d58-b589-f42894498427",
   "metadata": {
    "deletable": false,
    "editable": false,
    "nbgrader": {
     "cell_type": "markdown",
     "checksum": "f5055a8b2e98765550fde0444bd39caa",
     "grade": false,
     "grade_id": "gpu",
     "locked": true,
     "points": 2,
     "schema_version": 3,
     "solution": false,
     "task": true
    }
   },
   "source": []
  },
  {
   "cell_type": "markdown",
   "id": "ce17535d-e5af-4855-8047-fa6837980bb3",
   "metadata": {
    "deletable": false,
    "editable": false,
    "nbgrader": {
     "cell_type": "markdown",
     "checksum": "290653b8d872db7dd1c95ad81563a9d5",
     "grade": false,
     "grade_id": "cell-66faae08804e3663",
     "locked": true,
     "schema_version": 3,
     "solution": false,
     "task": false
    }
   },
   "source": [
    "## 4. Preventing overfitting"
   ]
  },
  {
   "cell_type": "markdown",
   "id": "fb1322be-e513-406f-81e2-4a8a79850a98",
   "metadata": {
    "deletable": false,
    "editable": false,
    "nbgrader": {
     "cell_type": "markdown",
     "checksum": "43cbb27cd2c0228c0a95a35080ad04af",
     "grade": false,
     "grade_id": "overfitting",
     "locked": true,
     "points": 6,
     "schema_version": 3,
     "solution": false,
     "task": true
    }
   },
   "source": [
    "**(Question)** Experiment with various deep learning techniques to prevent overfitting.\n",
    "\n",
    "Some suggested strategies are:\n",
    "\n",
    "- Adding data augmentation: possible transformations are random (horizontal) flips, rotations, translations, crops, and zooms\n",
    "    - (When using data augmentation, it is always good to visualize some of your transformations)\n",
    "- Adding dropout to the classification part\n",
    "- Adding appropriate batch normalization layers in different parts of the network"
   ]
  },
  {
   "cell_type": "code",
   "execution_count": null,
   "id": "acd4979a-d5aa-473c-a38c-ce46f66034b2",
   "metadata": {
    "deletable": false,
    "nbgrader": {
     "cell_type": "code",
     "checksum": "06b7b51cc5d72028030f4ac826d0e00a",
     "grade": true,
     "grade_id": "cell-1a95e4beff6142cf",
     "locked": false,
     "points": 0,
     "schema_version": 3,
     "solution": true,
     "task": false
    }
   },
   "outputs": [],
   "source": [
    "# YOUR CODE HERE\n",
    "raise NotImplementedError()"
   ]
  },
  {
   "cell_type": "markdown",
   "id": "e2fe05a3-4adc-440e-ad14-90b378de2c97",
   "metadata": {
    "deletable": false,
    "editable": false,
    "nbgrader": {
     "cell_type": "markdown",
     "checksum": "47c4d66d106e3a1292ed5258a9ed0047",
     "grade": false,
     "grade_id": "cell-b93100b447017dc0",
     "locked": true,
     "points": 0,
     "schema_version": 3,
     "solution": false,
     "task": true
    }
   },
   "source": []
  },
  {
   "cell_type": "markdown",
   "id": "d4cdb2fd-efc5-43c0-ac8f-4b92a84b7401",
   "metadata": {
    "deletable": false,
    "editable": false,
    "nbgrader": {
     "cell_type": "markdown",
     "checksum": "4318a9eb2f46813d3da72caa4077fe80",
     "grade": false,
     "grade_id": "overfitting-training-analysis",
     "locked": true,
     "points": 3,
     "schema_version": 3,
     "solution": false,
     "task": true
    }
   },
   "source": [
    "**(Question)** Train your model with deep learning techniques. Analyze the results and compare with the previous model."
   ]
  },
  {
   "cell_type": "code",
   "execution_count": null,
   "id": "4cd6cd5c-a3dd-4b70-95b8-a0e03c3fb740",
   "metadata": {
    "deletable": false,
    "nbgrader": {
     "cell_type": "code",
     "checksum": "381ee58b4aee95d9a120d0a78560cb18",
     "grade": true,
     "grade_id": "cell-d7a141109d5083c9",
     "locked": false,
     "points": 0,
     "schema_version": 3,
     "solution": true,
     "task": false
    }
   },
   "outputs": [],
   "source": [
    "# YOUR CODE HERE\n",
    "raise NotImplementedError()"
   ]
  },
  {
   "cell_type": "markdown",
   "id": "63a7cdbf-a1cf-429d-8dcd-bc7fd71c1252",
   "metadata": {
    "deletable": false,
    "editable": false,
    "nbgrader": {
     "cell_type": "markdown",
     "checksum": "b84a23940b61feee286d3a9fb779fffc",
     "grade": false,
     "grade_id": "cell-1a227075ad5edd29",
     "locked": true,
     "points": 0,
     "schema_version": 3,
     "solution": false,
     "task": true
    }
   },
   "source": []
  },
  {
   "cell_type": "markdown",
   "id": "ad3124da-1aa0-428a-9686-08152b3eeb5d",
   "metadata": {
    "deletable": false,
    "editable": false,
    "nbgrader": {
     "cell_type": "markdown",
     "checksum": "034e7b6114961654f94619655a677b3a",
     "grade": false,
     "grade_id": "cell-254f089d50413637",
     "locked": true,
     "schema_version": 3,
     "solution": false,
     "task": false
    }
   },
   "source": [
    "## 5. Finetuning a pretrained model"
   ]
  },
  {
   "cell_type": "markdown",
   "id": "26d519a6-fe4a-4c3a-b6cb-18d33dea078d",
   "metadata": {
    "deletable": false,
    "editable": false,
    "nbgrader": {
     "cell_type": "markdown",
     "checksum": "dc44c2e97ccfd43fb1f10c0190dd176d",
     "grade": false,
     "grade_id": "cell-42543bdd9cf77286",
     "locked": true,
     "schema_version": 3,
     "solution": false,
     "task": false
    }
   },
   "source": [
    "**(Question)** Load the feature extraction part of VGG16 model. The feature extraction part corresponds to the CNN part, without the MLP classifier at the end."
   ]
  },
  {
   "cell_type": "code",
   "execution_count": null,
   "id": "488fb08a-68f7-4232-976c-f2fdb3e2fe92",
   "metadata": {
    "deletable": false,
    "nbgrader": {
     "cell_type": "code",
     "checksum": "36727f1d9b521ae554745e9ee3bdcaff",
     "grade": true,
     "grade_id": "finetuning-model",
     "locked": false,
     "points": 2,
     "schema_version": 3,
     "solution": true,
     "task": false
    }
   },
   "outputs": [],
   "source": [
    "# YOUR CODE HERE\n",
    "raise NotImplementedError()"
   ]
  },
  {
   "cell_type": "markdown",
   "id": "9ee9f612-f0e7-466d-9eb0-7f94e038e6f0",
   "metadata": {
    "deletable": false,
    "editable": false,
    "nbgrader": {
     "cell_type": "markdown",
     "checksum": "e1ca55adc4a127437ba68a3307fa246b",
     "grade": false,
     "grade_id": "cell-2ee175497f88d89c",
     "locked": true,
     "schema_version": 3,
     "solution": false,
     "task": false
    }
   },
   "source": [
    "**(Question)** Add a custom MLP classifier on top of the VGG16 feature extraction part."
   ]
  },
  {
   "cell_type": "code",
   "execution_count": null,
   "id": "db0549ef-3327-4475-a641-d595eaa54221",
   "metadata": {
    "deletable": false,
    "nbgrader": {
     "cell_type": "code",
     "checksum": "55af4e889fe1f9061d377cce21316ebc",
     "grade": true,
     "grade_id": "finetuning-mlp",
     "locked": false,
     "points": 1,
     "schema_version": 3,
     "solution": true,
     "task": false
    }
   },
   "outputs": [],
   "source": [
    "# YOUR CODE HERE\n",
    "raise NotImplementedError()"
   ]
  },
  {
   "cell_type": "markdown",
   "id": "956ce6dd-ff46-4a23-9a34-d33aba5c119e",
   "metadata": {
    "deletable": false,
    "editable": false,
    "nbgrader": {
     "cell_type": "markdown",
     "checksum": "1024d2b975a4368c8d64181230f84609",
     "grade": false,
     "grade_id": "finetuning-train-analyze",
     "locked": true,
     "points": 4,
     "schema_version": 3,
     "solution": false,
     "task": true
    }
   },
   "source": [
    "**(Question)** Train your model. Analyze your results and compare with your initial model trained from scratch."
   ]
  },
  {
   "cell_type": "code",
   "execution_count": null,
   "id": "e6be1ca8-1c50-4afe-bd7f-4eedcd76db5c",
   "metadata": {
    "deletable": false,
    "nbgrader": {
     "cell_type": "code",
     "checksum": "2bf6a7fca5a7883684e888c6b0cd64cd",
     "grade": true,
     "grade_id": "cell-9a0cbcea0357984c",
     "locked": false,
     "points": 0,
     "schema_version": 3,
     "solution": true,
     "task": false
    }
   },
   "outputs": [],
   "source": [
    "# YOUR CODE HERE\n",
    "raise NotImplementedError()"
   ]
  },
  {
   "cell_type": "markdown",
   "id": "6b61dadc-6a2e-4987-9fe0-fff8be72cd4f",
   "metadata": {
    "deletable": false,
    "editable": false,
    "nbgrader": {
     "cell_type": "markdown",
     "checksum": "2f6e7001531776871d7fdce1e664c19d",
     "grade": false,
     "grade_id": "cell-6e8024b0abc7baff",
     "locked": true,
     "points": 0,
     "schema_version": 3,
     "solution": false,
     "task": true
    }
   },
   "source": []
  }
 ],
 "metadata": {
  "kernelspec": {
   "display_name": "Python 3 (ipykernel)",
   "language": "python",
   "name": "python3"
  },
  "language_info": {
   "codemirror_mode": {
    "name": "ipython",
    "version": 3
   },
   "file_extension": ".py",
   "mimetype": "text/x-python",
   "name": "python",
   "nbconvert_exporter": "python",
   "pygments_lexer": "ipython3",
   "version": "3.10.9"
  }
 },
 "nbformat": 4,
 "nbformat_minor": 5
}
