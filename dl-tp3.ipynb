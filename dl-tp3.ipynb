{
 "cells": [
  {
   "cell_type": "markdown",
   "id": "abb49b5c-7533-4bf0-bcce-37373d6fa072",
   "metadata": {
    "deletable": false,
    "editable": false,
    "nbgrader": {
     "cell_type": "markdown",
     "checksum": "d1502bbeee981ecc3a7a4464df92be0c",
     "grade": false,
     "grade_id": "cell-a975d7bfb06f30ae",
     "locked": true,
     "schema_version": 3,
     "solution": false,
     "task": false
    }
   },
   "source": [
    "# IS319 - Deep Learning\n",
    "\n",
    "## TP3 - Recurrent neural networks\n",
    "\n",
    "Credits: Andrej Karpathy\n",
    "\n",
    "The goal of this TP is to experiment with recurrent neural networks for a character-level language model to generate text that looks like training text data."
   ]
  },
  {
   "cell_type": "code",
   "execution_count": 142,
   "id": "16d03ccd-089a-4553-bd96-7bd0c0f71949",
   "metadata": {},
   "outputs": [
    {
     "name": "stdout",
     "output_type": "stream",
     "text": [
      "Using cpu\n"
     ]
    }
   ],
   "source": [
    "import torch\n",
    "import torch.nn as nn\n",
    "import torch.optim as optimizer\n",
    "import numpy as np\n",
    "import torch.nn.functional as F\n",
    "import torch.distributions as distributions\n",
    "import matplotlib.pyplot as plt\n",
    "\n",
    "device = (\n",
    "    \"cuda\"\n",
    "    if torch.cuda.is_available()\n",
    "    # else \"mps\"\n",
    "    # if torch.backends.mps.is_available() # For macOS\n",
    "    else \"cpu\"\n",
    ")\n",
    "print(f'Using {device}')"
   ]
  },
  {
   "cell_type": "markdown",
   "id": "c4c736b5-43df-4aca-9ba3-dd34ed8366f4",
   "metadata": {},
   "source": [
    "## 1. Text data preprocessing\n",
    "\n",
    "Several text datasets are provided, feel free to experiment with different ones throughout the TP. At the beginning, use a small subset of a given dataset (for example use only 10k characters)."
   ]
  },
  {
   "cell_type": "code",
   "execution_count": 143,
   "id": "e56a81b9-b733-4d87-b8d7-2184d5e5c2de",
   "metadata": {},
   "outputs": [
    {
     "name": "stdout",
     "output_type": "stream",
     "text": [
      "Dataset `shakespeare.txt` contains 95665 characters.\n",
      "Excerpt of the dataset:\n",
      "    SONNETS\n",
      "\n",
      "\n",
      "\n",
      "TO THE ONLY BEGETTER OF\n",
      "THESE INSUING SONNETS\n",
      "MR. W. H. ALL HAPPINESS\n",
      "AND THAT ETERNITY\n",
      "PROMISED BY\n",
      "OUR EVER-LIVING POET WISHETH\n",
      "THE WELL-WISHING\n",
      "ADVENTURER IN\n",
      "SETTING FORTH\n",
      "T. T.\n",
      "\n",
      "\n",
      "I.\n",
      "\n",
      "FROM fairest creatures we desire increase,\n",
      "That thereby beauty's rose might never die,\n",
      "But as the riper should by time decease,\n",
      "His tender heir might bear his memory:\n",
      "But thou, contracted to thine own bright eyes,\n",
      "Feed'st thy light'st flame with self-substantial fuel,\n",
      "Making a famine where abundance lies,\n",
      "Thyself thy foe, to thy sweet self too cruel.\n",
      "Thou that art now the world's fresh ornament\n",
      "And only herald to the gaudy spring,\n",
      "Within thine own bud buriest thy content\n",
      "And, tender churl, makest waste in niggarding.\n",
      "  Pity the world, or else this glutton be,\n",
      "  To eat the world's due, by the grave and thee.\n",
      "\n",
      "II.\n",
      "\n",
      "When forty winters shall beseige thy brow,\n",
      "And dig deep trenches in thy beauty's field,\n",
      "Thy youth's proud livery, so gazed on now,\n",
      "Will be a tatter'd weed, of small worth held:\n",
      "Then being ask'd where all thy beauty lies,\n",
      "Where all the treasure of thy lusty days,\n",
      "To say, within thine own deep-sunken eyes,\n",
      "Were an all-eating shame and thriftless praise.\n",
      "How much more praise deserved thy beauty's use,\n",
      "If thou couldst answer 'This fair child of mine\n",
      "Shall sum my count and make my old excuse,'\n",
      "Proving his beauty by succession thine!\n",
      "  This were to be new made when thou art old,\n",
      "  And see thy blood warm when thou feel'st it cold.\n",
      "\n",
      "III.\n",
      "\n",
      "Look in thy glass, and tell the face thou viewest\n",
      "Now is the time that face should form another;\n",
      "Whose fresh repair if now thou not renewest,\n",
      "Thou dost beguile the world, unbless some mother.\n",
      "For where is she so fair whose unear'd womb\n",
      "Disdains the tillage of thy husbandry?\n",
      "Or who is he so fond will be the tomb\n",
      "Of his self-love, to stop posterity?\n",
      "Thou art thy mother's glass, and she in thee\n",
      "Calls back the lovely April of her prime:\n",
      "So thou through windows of thine age shall see\n",
      "Despite of wrinkles this thy golden time.\n",
      "  But if thou\n"
     ]
    }
   ],
   "source": [
    "# text_data_fname = 'baudelaire.txt'  # ~0.1m characters (French)\n",
    "# text_data_fname = 'proust.txt'      # ~7.3m characters (French)\n",
    "text_data_fname = 'shakespeare.txt' # ~0.1m characters (English)\n",
    "# text_data_fname = 'lotr.txt'        # ~2.5m characters (English)\n",
    "# text_data_fname = 'doom.c'          # ~1m characters (C Code)\n",
    "# text_data_fname = 'linux.c'         # ~11.5m characters (C code)\n",
    "\n",
    "text_data = open(text_data_fname, 'r').read()\n",
    "text_data = text_data\n",
    "print(f'Dataset `{text_data_fname}` contains {len(text_data)} characters.')\n",
    "print('Excerpt of the dataset:')\n",
    "print(text_data[:2000])"
   ]
  },
  {
   "cell_type": "markdown",
   "id": "d9b9a404-8b09-4ab1-9529-98ff57650ef5",
   "metadata": {
    "deletable": false,
    "editable": false,
    "nbgrader": {
     "cell_type": "markdown",
     "checksum": "d6b030743489f86ece30d79835434297",
     "grade": false,
     "grade_id": "cell-9695c6f2cf95337c",
     "locked": true,
     "schema_version": 3,
     "solution": false,
     "task": false
    }
   },
   "source": [
    "**(Question)** Create a character-level vocabulary for your text data. Create two dictionaries: `ctoi` mapping each character to an index, and the reverse `itoc` mapping each index to its corresponding character. Implement the functions to convert text to tensor and tensor to text using these mappings. Apply these functions to some text data."
   ]
  },
  {
   "cell_type": "code",
   "execution_count": 144,
   "id": "885ecc8a-c654-463b-9353-f7a18a607199",
   "metadata": {
    "deletable": false,
    "nbgrader": {
     "cell_type": "code",
     "checksum": "e3eb46710b4006993f4eb9c557a2376f",
     "grade": true,
     "grade_id": "vocabulary",
     "locked": false,
     "points": 1,
     "schema_version": 3,
     "solution": true,
     "task": false
    }
   },
   "outputs": [
    {
     "name": "stdout",
     "output_type": "stream",
     "text": [
      "[' ', 'S', 'O', 'N', 'E', 'T', '\\n', 'H', 'L', 'Y', 'B', 'G', 'R', 'F', 'I', 'U', 'M', '.', 'W', 'A', 'P', 'D', 'V', '-', 'f', 'a', 'i', 'r', 'e', 's', 't', 'c', 'u', 'w', 'd', 'n', ',', 'h', 'b', 'y', \"'\", 'o', 'm', 'g', 'v', 'p', 'l', ':', 'k', 'z', 'x', '!', ';', '?', 'C', 'q', 'j', 'X', 'K', 'J', '[', ']']\n",
      "{' ': 0, 'S': 1, 'O': 2, 'N': 3, 'E': 4, 'T': 5, '\\n': 6, 'H': 7, 'L': 8, 'Y': 9, 'B': 10, 'G': 11, 'R': 12, 'F': 13, 'I': 14, 'U': 15, 'M': 16, '.': 17, 'W': 18, 'A': 19, 'P': 20, 'D': 21, 'V': 22, '-': 23, 'f': 24, 'a': 25, 'i': 26, 'r': 27, 'e': 28, 's': 29, 't': 30, 'c': 31, 'u': 32, 'w': 33, 'd': 34, 'n': 35, ',': 36, 'h': 37, 'b': 38, 'y': 39, \"'\": 40, 'o': 41, 'm': 42, 'g': 43, 'v': 44, 'p': 45, 'l': 46, ':': 47, 'k': 48, 'z': 49, 'x': 50, '!': 51, ';': 52, '?': 53, 'C': 54, 'q': 55, 'j': 56, 'X': 57, 'K': 58, 'J': 59, '[': 60, ']': 61}\n",
      "{0: ' ', 1: 'S', 2: 'O', 3: 'N', 4: 'E', 5: 'T', 6: '\\n', 7: 'H', 8: 'L', 9: 'Y', 10: 'B', 11: 'G', 12: 'R', 13: 'F', 14: 'I', 15: 'U', 16: 'M', 17: '.', 18: 'W', 19: 'A', 20: 'P', 21: 'D', 22: 'V', 23: '-', 24: 'f', 25: 'a', 26: 'i', 27: 'r', 28: 'e', 29: 's', 30: 't', 31: 'c', 32: 'u', 33: 'w', 34: 'd', 35: 'n', 36: ',', 37: 'h', 38: 'b', 39: 'y', 40: \"'\", 41: 'o', 42: 'm', 43: 'g', 44: 'v', 45: 'p', 46: 'l', 47: ':', 48: 'k', 49: 'z', 50: 'x', 51: '!', 52: ';', 53: '?', 54: 'C', 55: 'q', 56: 'j', 57: 'X', 58: 'K', 59: 'J', 60: '[', 61: ']'}\n",
      "tensor([ 0,  0,  0,  ..., 44, 28, 17])\n"
     ]
    }
   ],
   "source": [
    "# Create the vocabulary and the two mapping dictionaries\n",
    "def create_vocab(text):\n",
    "    vocab, ctoi, itoc = [], {}, {}\n",
    "    for character in text :\n",
    "        if character not in vocab :\n",
    "            vocab += [character]\n",
    "            ctoi[character] = vocab.index(character)\n",
    "            itoc[vocab.index(character)] = character\n",
    "    return vocab, ctoi, itoc\n",
    "\n",
    "# Implement the function converting text to tensor\n",
    "def text_to_tensor(text, ctoi):\n",
    "    arr = np.zeros((len(text)))\n",
    "    for idx, char in enumerate(text):\n",
    "        arr[idx] = ctoi[char]\n",
    "    return torch.tensor(arr, dtype=torch.long)\n",
    "\n",
    "# Implement the function converting tensor to text\n",
    "def tensor_to_text(tensor, itoc):\n",
    "    arr = tensor.cpu().detach().numpy()\n",
    "    text = \"\"\n",
    "    for elm in arr :\n",
    "        text+=itoc[elm]\n",
    "    return text\n",
    "\n",
    "# Apply your functions to some text data\n",
    "vocab, ctoi, itoc = create_vocab(text_data)\n",
    "\n",
    "print(vocab)\n",
    "print(ctoi)\n",
    "print(itoc)\n",
    "\n",
    "example_tensor = text_to_tensor(text_data, ctoi)\n",
    "print(example_tensor)\n",
    "\n",
    "example_text = tensor_to_text(example_tensor, itoc)\n",
    "# verify integrity\n",
    "assert example_text == text_data"
   ]
  },
  {
   "cell_type": "markdown",
   "id": "b8da1b7f-549d-45d9-8fea-309ee0e76a90",
   "metadata": {
    "deletable": false,
    "editable": false,
    "nbgrader": {
     "cell_type": "markdown",
     "checksum": "fbfd5a4df6e6081581ad38d7180fddfb",
     "grade": false,
     "grade_id": "cell-172b8befc4633227",
     "locked": true,
     "schema_version": 3,
     "solution": false,
     "task": false
    }
   },
   "source": [
    "## 2. Setup a character-level recurrent neural network"
   ]
  },
  {
   "cell_type": "markdown",
   "id": "3d33cfac-93f7-4980-8510-fcf675d3a06b",
   "metadata": {
    "deletable": false,
    "editable": false,
    "nbgrader": {
     "cell_type": "markdown",
     "checksum": "6cb30929efdd10eb6066750f4b94bf14",
     "grade": false,
     "grade_id": "embedding",
     "locked": true,
     "points": 2,
     "schema_version": 3,
     "solution": false,
     "task": true
    }
   },
   "source": [
    "**(Question)** Setup a simple embedding layer with `nn.Embedding` to project character indices to `embedding_dim` dimensional vectors. Explain precisely how this layer works and what are its outputs for a given input sequence."
   ]
  },
  {
   "cell_type": "code",
   "execution_count": 145,
   "id": "609747a0-6634-4232-92cb-72946ef516b0",
   "metadata": {
    "deletable": false,
    "nbgrader": {
     "cell_type": "code",
     "checksum": "a9dd84493589d73c13fac37411610a2e",
     "grade": true,
     "grade_id": "cell-a3b5adeb8111779b",
     "locked": false,
     "points": 0,
     "schema_version": 3,
     "solution": true,
     "task": false
    }
   },
   "outputs": [
    {
     "name": "stdout",
     "output_type": "stream",
     "text": [
      "tensor([[-0.7977, -1.7918, -1.8877,  ...,  0.5946,  1.3731,  0.4697],\n",
      "        [-0.7977, -1.7918, -1.8877,  ...,  0.5946,  1.3731,  0.4697],\n",
      "        [-0.7977, -1.7918, -1.8877,  ...,  0.5946,  1.3731,  0.4697],\n",
      "        ...,\n",
      "        [ 0.2348,  1.1167, -0.1175,  ..., -0.4471,  1.1745,  1.5218],\n",
      "        [-0.3669, -1.0976, -0.9237,  ..., -1.5070, -0.3120,  0.2649],\n",
      "        [-1.5446,  0.4672,  0.6865,  ..., -0.6113,  1.2715, -0.6184]],\n",
      "       grad_fn=<EmbeddingBackward0>)\n",
      "torch.Size([95665, 16])\n"
     ]
    }
   ],
   "source": [
    "# n_vocab : the total number of unique indices that the embedding layer can handle.\n",
    "# n_dim : the size of the vector space in which the indices will be embedded.\n",
    "n_vocab, n_dim = len(vocab), 16\n",
    "\n",
    "# initiate the Embedding layer\n",
    "emb_layer = nn.Embedding(n_vocab, embedding_dim=n_dim)\n",
    "\n",
    "# given the example tensor generate an embedding of each index (indirectly character) of the text\n",
    "emb_data = emb_layer(example_tensor)\n",
    "\n",
    "print(emb_data)\n",
    "print(emb_data.shape)"
   ]
  },
  {
   "cell_type": "markdown",
   "id": "26f7a5e3-f137-49ef-a135-a855029b724b",
   "metadata": {
    "deletable": false,
    "nbgrader": {
     "cell_type": "markdown",
     "checksum": "ba287efa3849a2ddcb98b94b287fd199",
     "grade": true,
     "grade_id": "cell-4065672821a5801f",
     "locked": false,
     "points": 0,
     "schema_version": 3,
     "solution": true,
     "task": false
    }
   },
   "source": [
    "## Answer :\n",
    "\n",
    "**nn.Embedding converts integer indices to dense vectors. It initializes a tensor with size (sequence_length, embedding_dim), mapping each index to a learnable vector**\n",
    "****\n"
   ]
  },
  {
   "cell_type": "markdown",
   "id": "7ebc7b1c-6469-4c63-9965-7a7f39734302",
   "metadata": {
    "deletable": false,
    "editable": false,
    "nbgrader": {
     "cell_type": "markdown",
     "checksum": "6897eae892e4aa50cceac9bca0a83f82",
     "grade": false,
     "grade_id": "base-rnn",
     "locked": true,
     "points": 2,
     "schema_version": 3,
     "solution": false,
     "task": true
    }
   },
   "source": [
    "**(Question)** Setup a single-layer RNN with `nn.RNN` (without defining a custom class). Use `hidden_dim` size for hidden states. Explain precisely the outputs of this layer for a given input sequence."
   ]
  },
  {
   "cell_type": "code",
   "execution_count": 146,
   "id": "162dd7af-cf96-4279-b512-1507433c7826",
   "metadata": {
    "deletable": false,
    "nbgrader": {
     "cell_type": "code",
     "checksum": "095b1c904c7c5fa3d5371de208f7300a",
     "grade": true,
     "grade_id": "cell-c0b3cdd14603b6d1",
     "locked": false,
     "points": 0,
     "schema_version": 3,
     "solution": true,
     "task": false
    }
   },
   "outputs": [
    {
     "name": "stdout",
     "output_type": "stream",
     "text": [
      "torch.Size([95665, 16]) tensor([[-0.0685, -0.3224,  0.5690,  ...,  0.3683, -0.3473, -0.2569],\n",
      "        [-0.2613, -0.3420,  0.8001,  ...,  0.7019, -0.6623, -0.1585],\n",
      "        [-0.3443, -0.2140,  0.7402,  ...,  0.7082, -0.7093, -0.1622],\n",
      "        ...,\n",
      "        [-0.7309,  0.2805,  0.1043,  ...,  0.2260, -0.4648,  0.4629],\n",
      "        [-0.6206, -0.3384,  0.6531,  ...,  0.4925, -0.6534, -0.0524],\n",
      "        [-0.0190,  0.6318, -0.5593,  ...,  0.8904, -0.7707,  0.7370]],\n",
      "       grad_fn=<SqueezeBackward1>)\n",
      "tensor([[-0.0190,  0.6318, -0.5593,  0.0333,  0.1878,  0.4416,  0.7619,  0.5305,\n",
      "         -0.9019, -0.5313,  0.7245, -0.1650, -0.6852,  0.8904, -0.7707,  0.7370]],\n",
      "       grad_fn=<SqueezeBackward1>)\n"
     ]
    }
   ],
   "source": [
    "input_size, hidden_size = 16, 16\n",
    "rnn_layer = nn.RNN(input_size, hidden_size)\n",
    "\n",
    "# Initialize the hidden state\n",
    "hidden_state = torch.zeros(1, hidden_size)\n",
    "\n",
    "# run the embedded data through the RNN\n",
    "output_sequence, final_hidden_state = rnn_layer(emb_data, hidden_state)\n",
    "\n",
    "print(output_sequence.shape, output_sequence)\n",
    "print(final_hidden_state)"
   ]
  },
  {
   "cell_type": "markdown",
   "id": "56780e84-8767-4941-ba0a-2047b106fc35",
   "metadata": {
    "deletable": false,
    "nbgrader": {
     "cell_type": "markdown",
     "checksum": "2f3230528c7fabd5b26931934ac4e8b0",
     "grade": true,
     "grade_id": "cell-9c6c3e3359e2c37e",
     "locked": false,
     "points": 0,
     "schema_version": 3,
     "solution": true,
     "task": false
    }
   },
   "source": [
    "## Answer :\n",
    "The `output_sequence` represents the output of the RNN at each time step when it processes an input sequence. It is a tensor that contains the predicted value for each hidden state at each time step in the sequence. And the `final_hidden_state` is, as shown, the final hidden state of the layer.\n",
    "****"
   ]
  },
  {
   "cell_type": "markdown",
   "id": "76df8c7a-2a3d-43a0-9666-a797d1a3dbca",
   "metadata": {
    "deletable": false,
    "editable": false,
    "nbgrader": {
     "cell_type": "markdown",
     "checksum": "3993b8b02d0be0e16de189c4850bbfce",
     "grade": false,
     "grade_id": "rnn-model",
     "locked": true,
     "points": 2,
     "schema_version": 3,
     "solution": false,
     "task": true
    }
   },
   "source": [
    "**(Question)** Create a simple RNN model with a custom `nn.Module` class. It should contain: an embedding layer, a single-layer RNN, and a dense output layer. For each character of the input sequence, the model should predict the probability of the next character. The forward method should return the probabilities for next characters and the corresponding hidden states.\n",
    "After completing the class, create a model and apply the forward pass on some input text. Understand and explain the results.\n",
    "\n",
    "*Note:* depending on how you implement the loss function later, it can be convenient to return logits instead of probabilities, i.e. raw values of the output layer before any activation function. "
   ]
  },
  {
   "cell_type": "code",
   "execution_count": 148,
   "id": "6cc835a8-a05f-4f78-b50e-4edbdb04305f",
   "metadata": {
    "deletable": false,
    "nbgrader": {
     "cell_type": "code",
     "checksum": "b587c6f505f5d3719869ae8a57fcb5c6",
     "grade": true,
     "grade_id": "cell-e55d41dd89bcf74f",
     "locked": false,
     "points": 0,
     "schema_version": 3,
     "solution": true,
     "task": false
    }
   },
   "outputs": [
    {
     "name": "stdout",
     "output_type": "stream",
     "text": [
      "tensor([[0.0106, 0.0142, 0.0110, 0.0144, 0.0146, 0.0186, 0.0213, 0.0212, 0.0146,\n",
      "         0.0227, 0.0113, 0.0189, 0.0118, 0.0146, 0.0160, 0.0106, 0.0166, 0.0208,\n",
      "         0.0153, 0.0126, 0.0152, 0.0199, 0.0132, 0.0154, 0.0196, 0.0146, 0.0108,\n",
      "         0.0171, 0.0250, 0.0198, 0.0115, 0.0097, 0.0255, 0.0140, 0.0124, 0.0181,\n",
      "         0.0103, 0.0122, 0.0129, 0.0132, 0.0271, 0.0194, 0.0137, 0.0112, 0.0226,\n",
      "         0.0146, 0.0110, 0.0154, 0.0114, 0.0151, 0.0204, 0.0302, 0.0112, 0.0159,\n",
      "         0.0126, 0.0231, 0.0178, 0.0190, 0.0161, 0.0178, 0.0160, 0.0162],\n",
      "        [0.0106, 0.0149, 0.0130, 0.0149, 0.0166, 0.0168, 0.0217, 0.0191, 0.0136,\n",
      "         0.0217, 0.0091, 0.0190, 0.0115, 0.0149, 0.0182, 0.0085, 0.0140, 0.0198,\n",
      "         0.0142, 0.0144, 0.0151, 0.0196, 0.0117, 0.0153, 0.0183, 0.0145, 0.0111,\n",
      "         0.0182, 0.0266, 0.0207, 0.0106, 0.0084, 0.0263, 0.0139, 0.0122, 0.0184,\n",
      "         0.0111, 0.0152, 0.0135, 0.0150, 0.0253, 0.0168, 0.0130, 0.0085, 0.0250,\n",
      "         0.0171, 0.0110, 0.0155, 0.0108, 0.0150, 0.0195, 0.0310, 0.0121, 0.0185,\n",
      "         0.0134, 0.0197, 0.0193, 0.0206, 0.0167, 0.0174, 0.0137, 0.0178],\n",
      "        [0.0106, 0.0153, 0.0124, 0.0142, 0.0162, 0.0155, 0.0212, 0.0190, 0.0133,\n",
      "         0.0214, 0.0085, 0.0188, 0.0117, 0.0151, 0.0171, 0.0093, 0.0139, 0.0196,\n",
      "         0.0150, 0.0151, 0.0151, 0.0194, 0.0120, 0.0138, 0.0188, 0.0162, 0.0103,\n",
      "         0.0170, 0.0280, 0.0207, 0.0113, 0.0084, 0.0270, 0.0135, 0.0117, 0.0203,\n",
      "         0.0113, 0.0151, 0.0131, 0.0143, 0.0265, 0.0176, 0.0127, 0.0084, 0.0230,\n",
      "         0.0161, 0.0112, 0.0150, 0.0113, 0.0164, 0.0199, 0.0311, 0.0128, 0.0185,\n",
      "         0.0137, 0.0197, 0.0191, 0.0211, 0.0165, 0.0173, 0.0137, 0.0178],\n",
      "        [0.0106, 0.0149, 0.0121, 0.0143, 0.0166, 0.0161, 0.0209, 0.0186, 0.0129,\n",
      "         0.0215, 0.0090, 0.0193, 0.0114, 0.0152, 0.0169, 0.0093, 0.0144, 0.0198,\n",
      "         0.0151, 0.0150, 0.0153, 0.0189, 0.0120, 0.0138, 0.0189, 0.0158, 0.0104,\n",
      "         0.0170, 0.0285, 0.0203, 0.0112, 0.0082, 0.0274, 0.0139, 0.0122, 0.0195,\n",
      "         0.0111, 0.0150, 0.0131, 0.0139, 0.0260, 0.0177, 0.0126, 0.0082, 0.0229,\n",
      "         0.0161, 0.0114, 0.0153, 0.0115, 0.0166, 0.0199, 0.0316, 0.0126, 0.0187,\n",
      "         0.0140, 0.0198, 0.0193, 0.0207, 0.0165, 0.0174, 0.0138, 0.0171],\n",
      "        [0.0149, 0.0121, 0.0140, 0.0106, 0.0124, 0.0171, 0.0143, 0.0099, 0.0125,\n",
      "         0.0205, 0.0144, 0.0272, 0.0123, 0.0138, 0.0153, 0.0082, 0.0148, 0.0201,\n",
      "         0.0145, 0.0208, 0.0192, 0.0139, 0.0167, 0.0114, 0.0147, 0.0196, 0.0126,\n",
      "         0.0169, 0.0264, 0.0199, 0.0182, 0.0147, 0.0178, 0.0166, 0.0194, 0.0170,\n",
      "         0.0173, 0.0188, 0.0190, 0.0243, 0.0164, 0.0214, 0.0193, 0.0084, 0.0170,\n",
      "         0.0123, 0.0153, 0.0105, 0.0117, 0.0164, 0.0179, 0.0162, 0.0149, 0.0142,\n",
      "         0.0241, 0.0127, 0.0190, 0.0183, 0.0161, 0.0172, 0.0144, 0.0119],\n",
      "        [0.0129, 0.0165, 0.0101, 0.0174, 0.0156, 0.0190, 0.0144, 0.0176, 0.0165,\n",
      "         0.0158, 0.0188, 0.0124, 0.0143, 0.0168, 0.0186, 0.0137, 0.0155, 0.0152,\n",
      "         0.0199, 0.0129, 0.0258, 0.0144, 0.0140, 0.0134, 0.0187, 0.0175, 0.0130,\n",
      "         0.0208, 0.0299, 0.0178, 0.0134, 0.0118, 0.0151, 0.0153, 0.0172, 0.0150,\n",
      "         0.0135, 0.0131, 0.0108, 0.0108, 0.0240, 0.0181, 0.0213, 0.0081, 0.0124,\n",
      "         0.0205, 0.0098, 0.0154, 0.0171, 0.0160, 0.0182, 0.0234, 0.0153, 0.0127,\n",
      "         0.0206, 0.0148, 0.0151, 0.0189, 0.0199, 0.0170, 0.0126, 0.0133],\n",
      "        [0.0173, 0.0172, 0.0110, 0.0163, 0.0154, 0.0192, 0.0151, 0.0115, 0.0136,\n",
      "         0.0187, 0.0110, 0.0214, 0.0171, 0.0141, 0.0159, 0.0137, 0.0162, 0.0172,\n",
      "         0.0158, 0.0302, 0.0197, 0.0117, 0.0134, 0.0107, 0.0163, 0.0172, 0.0112,\n",
      "         0.0141, 0.0169, 0.0153, 0.0161, 0.0146, 0.0214, 0.0187, 0.0185, 0.0133,\n",
      "         0.0165, 0.0187, 0.0201, 0.0189, 0.0150, 0.0119, 0.0153, 0.0107, 0.0199,\n",
      "         0.0207, 0.0157, 0.0280, 0.0127, 0.0179, 0.0144, 0.0210, 0.0181, 0.0133,\n",
      "         0.0124, 0.0158, 0.0139, 0.0132, 0.0136, 0.0155, 0.0184, 0.0118],\n",
      "        [0.0179, 0.0200, 0.0095, 0.0187, 0.0097, 0.0168, 0.0138, 0.0154, 0.0104,\n",
      "         0.0175, 0.0105, 0.0210, 0.0208, 0.0136, 0.0143, 0.0162, 0.0112, 0.0137,\n",
      "         0.0176, 0.0251, 0.0217, 0.0138, 0.0148, 0.0090, 0.0155, 0.0204, 0.0120,\n",
      "         0.0174, 0.0193, 0.0175, 0.0194, 0.0153, 0.0162, 0.0133, 0.0129, 0.0167,\n",
      "         0.0143, 0.0188, 0.0196, 0.0176, 0.0166, 0.0130, 0.0150, 0.0129, 0.0155,\n",
      "         0.0161, 0.0166, 0.0199, 0.0141, 0.0185, 0.0147, 0.0178, 0.0194, 0.0173,\n",
      "         0.0142, 0.0149, 0.0119, 0.0151, 0.0154, 0.0213, 0.0232, 0.0172],\n",
      "        [0.0111, 0.0133, 0.0196, 0.0151, 0.0088, 0.0113, 0.0176, 0.0180, 0.0083,\n",
      "         0.0225, 0.0090, 0.0211, 0.0177, 0.0240, 0.0149, 0.0145, 0.0212, 0.0221,\n",
      "         0.0206, 0.0235, 0.0242, 0.0134, 0.0142, 0.0131, 0.0201, 0.0124, 0.0172,\n",
      "         0.0154, 0.0144, 0.0099, 0.0201, 0.0181, 0.0172, 0.0170, 0.0086, 0.0174,\n",
      "         0.0099, 0.0155, 0.0078, 0.0167, 0.0146, 0.0113, 0.0210, 0.0109, 0.0199,\n",
      "         0.0134, 0.0266, 0.0116, 0.0142, 0.0187, 0.0172, 0.0229, 0.0228, 0.0201,\n",
      "         0.0102, 0.0216, 0.0144, 0.0085, 0.0136, 0.0172, 0.0163, 0.0166],\n",
      "        [0.0175, 0.0110, 0.0119, 0.0210, 0.0173, 0.0208, 0.0146, 0.0166, 0.0126,\n",
      "         0.0147, 0.0166, 0.0159, 0.0159, 0.0168, 0.0131, 0.0083, 0.0200, 0.0157,\n",
      "         0.0146, 0.0164, 0.0207, 0.0137, 0.0155, 0.0147, 0.0238, 0.0183, 0.0174,\n",
      "         0.0202, 0.0215, 0.0146, 0.0154, 0.0155, 0.0128, 0.0173, 0.0252, 0.0187,\n",
      "         0.0186, 0.0131, 0.0133, 0.0153, 0.0180, 0.0105, 0.0112, 0.0102, 0.0156,\n",
      "         0.0210, 0.0167, 0.0204, 0.0189, 0.0170, 0.0165, 0.0171, 0.0139, 0.0144,\n",
      "         0.0128, 0.0138, 0.0167, 0.0162, 0.0180, 0.0149, 0.0161, 0.0131]],\n",
      "       grad_fn=<SoftmaxBackward0>)\n"
     ]
    },
    {
     "name": "stderr",
     "output_type": "stream",
     "text": [
      "/var/folders/2c/x_fm16bs4w92g_htbxdjq3mw0000gn/T/ipykernel_58563/659685026.py:20: UserWarning: Implicit dimension choice for softmax has been deprecated. Change the call to include dim=X as an argument.\n",
      "  print(F.softmax(output))\n"
     ]
    }
   ],
   "source": [
    "class SimpleRNN(nn.Module):\n",
    "    def __init__(self, vocab_size, embedding_dim, hidden_dim, num_layers=1):\n",
    "        '''Initialize model parameters and layers.'''\n",
    "        super(SimpleRNN, self).__init__()\n",
    "        self.emb = nn.Embedding(vocab_size, embedding_dim)\n",
    "        self.rnn = nn.RNN(embedding_dim, hidden_dim, num_layers=num_layers, batch_first=True)\n",
    "        self.lin = nn.Linear(hidden_dim, vocab_size)\n",
    "\n",
    "    def forward(self, tensor_data, hidden_state=None):\n",
    "        '''Apply the forward pass for some text data already converted to tensor.'''\n",
    "        output = self.emb(tensor_data)\n",
    "        output, hidden = self.rnn(output, hidden_state)\n",
    "        output = self.lin(output)\n",
    "        return output, hidden\n",
    "\n",
    "# Initialize a model and apply the forward pass on some input text\n",
    "vocab_size, embedding_dim, hidden_dim = len(vocab), 32, 64\n",
    "sr = SimpleRNN(vocab_size, embedding_dim, hidden_dim)\n",
    "output, _ = sr.forward(text_to_tensor(text_data[:10], ctoi))\n",
    "print(F.softmax(output))\n"
   ]
  },
  {
   "cell_type": "markdown",
   "id": "80eb09a2-2c5e-4dd6-922e-a7f0c6cbff85",
   "metadata": {
    "deletable": false,
    "nbgrader": {
     "cell_type": "markdown",
     "checksum": "ae8f4a875df816da1463fc833e40cea4",
     "grade": true,
     "grade_id": "cell-093600fc493e6e4f",
     "locked": false,
     "points": 0,
     "schema_version": 3,
     "solution": true,
     "task": false
    }
   },
   "source": [
    "## Answer :\n",
    "\n",
    "****"
   ]
  },
  {
   "cell_type": "markdown",
   "id": "41614741-8bf2-4ead-8205-788623404a27",
   "metadata": {
    "deletable": false,
    "editable": false,
    "nbgrader": {
     "cell_type": "markdown",
     "checksum": "9bb6ca5b49b7c8b46253cf2a7f1200c5",
     "grade": false,
     "grade_id": "rnn-overfit",
     "locked": true,
     "schema_version": 3,
     "solution": false,
     "task": false
    }
   },
   "source": [
    "**(Question)** Implement a simple training loop to overfit on a small input sequence. The loss function should be a categorical cross entropy on the predicted characters. Monitor the loss function value over the iterations."
   ]
  },
  {
   "cell_type": "code",
   "execution_count": 68,
   "id": "474f97eb-685f-41c1-8249-1eb4df9e168c",
   "metadata": {
    "deletable": false,
    "nbgrader": {
     "cell_type": "code",
     "checksum": "fa15210da5aabdca4ecf3228efec88be",
     "grade": true,
     "grade_id": "cell-1904f4989149b1ef",
     "locked": false,
     "points": 3,
     "schema_version": 3,
     "solution": true,
     "task": false
    }
   },
   "outputs": [
    {
     "name": "stdout",
     "output_type": "stream",
     "text": [
      "Iteration 50/1000, Loss: 0.2606762647628784\n",
      "Iteration 100/1000, Loss: 0.014782190322875977\n",
      "Iteration 150/1000, Loss: 1.5871313735260628e-05\n",
      "Iteration 200/1000, Loss: 6.0050838328606915e-06\n",
      "Iteration 250/1000, Loss: 4.440505108505022e-06\n",
      "Iteration 300/1000, Loss: 3.510689566610381e-06\n",
      "Iteration 350/1000, Loss: 2.8759081942553166e-06\n",
      "Iteration 400/1000, Loss: 2.3960960788826924e-06\n",
      "Iteration 450/1000, Loss: 2.035490979324095e-06\n",
      "Iteration 500/1000, Loss: 1.7255488273804076e-06\n",
      "Iteration 550/1000, Loss: 1.507993260929652e-06\n",
      "Iteration 600/1000, Loss: 1.332160536549054e-06\n",
      "Iteration 650/1000, Loss: 1.192090280710545e-06\n",
      "Iteration 700/1000, Loss: 1.0818221198860556e-06\n",
      "Iteration 750/1000, Loss: 9.86455120255414e-07\n",
      "Iteration 800/1000, Loss: 9.000286809168756e-07\n",
      "Iteration 850/1000, Loss: 8.344638331436727e-07\n",
      "Iteration 900/1000, Loss: 7.688989285270509e-07\n",
      "Iteration 950/1000, Loss: 7.212153150248923e-07\n",
      "Iteration 1000/1000, Loss: 6.735317015227338e-07\n"
     ]
    }
   ],
   "source": [
    "# Sample a small input sequence into tensor `input_seq` and store its corresponding expected sequence into tensor `target_seq`\n",
    "input_seq = torch.arange(0, 40).long()\n",
    "target_seq = (input_seq+1).clone() \n",
    "\n",
    "# Implement a training loop overfitting an input sequence and monitoring the loss function\n",
    "def train_overfit(model, input_seq, target_seq, n_iters=200, learning_rate=0.2):\n",
    "    optim = optimizer.Adam(model.parameters(), lr=learning_rate)\n",
    "    loss_function = nn.CrossEntropyLoss()\n",
    "    hidden = None\n",
    "    for i in range(n_iters):\n",
    "\n",
    "        output, hidden = model(input_seq.unsqueeze(0), hidden)\n",
    "        hidden.detach_()\n",
    "        loss = loss_function(output.squeeze(0), target_seq)\n",
    "\n",
    "        optim.zero_grad()\n",
    "        loss.backward()\n",
    "        optim.step()\n",
    "\n",
    "        if (i + 1)%50 == 0:\n",
    "            print(f\"Iteration {i + 1}/{n_iters}, Loss: {loss.item()}\")\n",
    "\n",
    "# Initialize a model and make it overfit the input sequence\n",
    "sr_model = SimpleRNN(vocab_size, embedding_dim, hidden_dim)\n",
    "train_overfit(sr_model, input_seq, target_seq, n_iters=1000)"
   ]
  },
  {
   "cell_type": "markdown",
   "id": "68c66f34-7afb-4920-b6d2-5642d28a0770",
   "metadata": {
    "deletable": false,
    "editable": false,
    "nbgrader": {
     "cell_type": "markdown",
     "checksum": "9cd6d0a90166cea96ce250f8d8f2e083",
     "grade": false,
     "grade_id": "rnn-argmax",
     "locked": true,
     "points": 2,
     "schema_version": 3,
     "solution": false,
     "task": true
    }
   },
   "source": [
    "**(Question)** Implement a `predict_argmax` method for your `RNN` model. Then, verify your overfitting: use some characters of your input sequence as context to predict the remaining ones. Experiment with the current model and analyze the results."
   ]
  },
  {
   "cell_type": "code",
   "execution_count": 69,
   "id": "4d0350ae-a23a-4802-a2a5-012193ede15b",
   "metadata": {
    "deletable": false,
    "nbgrader": {
     "cell_type": "code",
     "checksum": "0114ed939e7dd8b656bd0f03bd576a89",
     "grade": true,
     "grade_id": "cell-2d706c010aeccb0d",
     "locked": false,
     "points": 0,
     "schema_version": 3,
     "solution": true,
     "task": false
    }
   },
   "outputs": [
    {
     "name": "stdout",
     "output_type": "stream",
     "text": [
      "Iteration 50/1000, Loss: 0.011529028415679932\n",
      "Iteration 100/1000, Loss: 0.00457511143758893\n",
      "Iteration 150/1000, Loss: 0.01494741439819336\n",
      "Iteration 200/1000, Loss: 2.860960421458003e-06\n",
      "Iteration 250/1000, Loss: 1.761298335622996e-06\n",
      "Iteration 300/1000, Loss: 1.320233764090517e-06\n",
      "Iteration 350/1000, Loss: 1.0579773288554861e-06\n",
      "Iteration 400/1000, Loss: 8.791652135187178e-07\n",
      "Iteration 450/1000, Loss: 7.59956947149476e-07\n",
      "Iteration 500/1000, Loss: 6.645901748925098e-07\n",
      "Iteration 550/1000, Loss: 5.93064953591238e-07\n",
      "Iteration 600/1000, Loss: 5.275001626614539e-07\n",
      "Iteration 650/1000, Loss: 4.768364192386798e-07\n",
      "Iteration 700/1000, Loss: 4.2021218860099907e-07\n",
      "Iteration 750/1000, Loss: 3.695483314913872e-07\n",
      "Iteration 800/1000, Loss: 3.4868676834776124e-07\n",
      "Iteration 850/1000, Loss: 3.2186477483264753e-07\n",
      "Iteration 900/1000, Loss: 3.099438572462532e-07\n",
      "Iteration 950/1000, Loss: 2.9206248086666164e-07\n",
      "Iteration 1000/1000, Loss: 2.771613480945234e-07\n"
     ]
    }
   ],
   "source": [
    "class CharRNN(SimpleRNN):\n",
    "    def predict_argmax(self, context_tensor, n_predictions):\n",
    "        # Apply the forward pass for the context tensor\n",
    "        # Then, store the last prediction and last hidden state\n",
    "        predictions, hidden = [], None\n",
    "        for char_index in context_tensor:\n",
    "            output, hidden = self.forward(char_index.unsqueeze(0).unsqueeze(0), hidden_state=hidden)\n",
    "\n",
    "        # Use the last prediction and last hidden state as inputs to the next forward pass\n",
    "        # Do this in a loop to predict the next `n_predictions` characters\n",
    "        for _ in range(n_predictions):\n",
    "            output, hidden = self.forward(context_tensor[-1].unsqueeze(0).unsqueeze(0))\n",
    "\n",
    "            predicted_index = output.squeeze(0).argmax().item()\n",
    "            predictions.append(predicted_index)\n",
    "\n",
    "            context_tensor = torch.cat((context_tensor, torch.tensor([predicted_index])))\n",
    "\n",
    "        return predictions\n",
    "\n",
    "# Initialize a model and make it overfit as above\n",
    "# Then, verify your overfitting by predicting characters given some context\n",
    "model = CharRNN(vocab_size=len(vocab), embedding_dim=32, hidden_dim=64)\n",
    "train_overfit(model, input_seq, target_seq, n_iters=1000)"
   ]
  },
  {
   "cell_type": "code",
   "execution_count": 70,
   "id": "38d6df5d",
   "metadata": {},
   "outputs": [
    {
     "name": "stdout",
     "output_type": "stream",
     "text": [
      "[35, 36, 37]\n"
     ]
    }
   ],
   "source": [
    "# predict 3 indices\n",
    "print(model.predict_argmax(input_seq[:35], n_predictions=3))"
   ]
  },
  {
   "cell_type": "markdown",
   "id": "4b3e9b8b-f952-43af-a2f0-084451d85759",
   "metadata": {
    "deletable": false,
    "nbgrader": {
     "cell_type": "markdown",
     "checksum": "25bd5ff990e4cf55e89b26541d0acf34",
     "grade": true,
     "grade_id": "cell-b783299fd35282d3",
     "locked": false,
     "points": 0,
     "schema_version": 3,
     "solution": true,
     "task": false
    }
   },
   "source": [
    "## Answer :\n",
    "\n",
    "****"
   ]
  },
  {
   "cell_type": "markdown",
   "id": "e4f5d3e9-9a68-48b8-a549-0fc2b9f2b2ff",
   "metadata": {
    "deletable": false,
    "editable": false,
    "nbgrader": {
     "cell_type": "markdown",
     "checksum": "f34d247477f051d257bc1337cfc611fa",
     "grade": false,
     "grade_id": "cell-52baebc1e4eb464c",
     "locked": true,
     "schema_version": 3,
     "solution": false,
     "task": false
    }
   },
   "source": [
    "Using the argmax function to predict the next character can yield a deterministic generator always predicting the same characters. Instead, it is common to predict the next character by sampling from the distribution of output predictions, adding some randomness into the generator."
   ]
  },
  {
   "cell_type": "markdown",
   "id": "5701d4df-dca5-4884-8ac2-c8efe4fe4641",
   "metadata": {
    "deletable": false,
    "editable": false,
    "nbgrader": {
     "cell_type": "markdown",
     "checksum": "9cefa534edd726def1328ea0b48ed29d",
     "grade": false,
     "grade_id": "cell-e85a5e3954f17ad2",
     "locked": true,
     "schema_version": 3,
     "solution": false,
     "task": false
    }
   },
   "source": [
    "**(Question)** Implement a `predict_proba` method for your `RNN` model. It should be very similar to `predict_argmax`, but instead of using argmax, it should randomly sample from the output predictions. To do that, you can use the `torch.distribution.Categorical` class and its `sample()` method. Verify that your method correctly added some randomness."
   ]
  },
  {
   "cell_type": "code",
   "execution_count": 71,
   "id": "72da1efb-39b8-496d-9c8f-cea241c41364",
   "metadata": {
    "deletable": false,
    "nbgrader": {
     "cell_type": "code",
     "checksum": "2ba3d32edc8f535eb8923fb8e71c9fe4",
     "grade": true,
     "grade_id": "rnn-sample",
     "locked": false,
     "points": 2,
     "schema_version": 3,
     "solution": true,
     "task": false
    }
   },
   "outputs": [
    {
     "name": "stdout",
     "output_type": "stream",
     "text": [
      "Iteration 50/1000, Loss: 0.19750407338142395\n",
      "Iteration 100/1000, Loss: 1.7572730939718895e-05\n",
      "Iteration 150/1000, Loss: 4.723605798062636e-06\n",
      "Iteration 200/1000, Loss: 3.54942494595889e-06\n",
      "Iteration 250/1000, Loss: 2.863984036594047e-06\n",
      "Iteration 300/1000, Loss: 2.393113845755579e-06\n",
      "Iteration 350/1000, Loss: 2.0384702565934276e-06\n",
      "Iteration 400/1000, Loss: 1.7672715557637275e-06\n",
      "Iteration 450/1000, Loss: 1.5586567769787507e-06\n",
      "Iteration 500/1000, Loss: 1.3828241662849905e-06\n",
      "Iteration 550/1000, Loss: 1.242754024133319e-06\n",
      "Iteration 600/1000, Loss: 1.1175848158018198e-06\n",
      "Iteration 650/1000, Loss: 1.0222178161711781e-06\n",
      "Iteration 700/1000, Loss: 9.328112469120242e-07\n",
      "Iteration 750/1000, Loss: 8.523451242581359e-07\n",
      "Iteration 800/1000, Loss: 7.897605200923863e-07\n",
      "Iteration 850/1000, Loss: 7.271758022397989e-07\n",
      "Iteration 900/1000, Loss: 6.824724323450937e-07\n",
      "Iteration 950/1000, Loss: 6.377691192938073e-07\n",
      "Iteration 1000/1000, Loss: 5.990261229271709e-07\n"
     ]
    }
   ],
   "source": [
    "class CharRNN(CharRNN):\n",
    "    def predict_proba(self, input_context, n_predictions):\n",
    "        predictions, hidden = [], None\n",
    "\n",
    "        for char_index in input_context:\n",
    "            output, hidden = self.forward(char_index.unsqueeze(0).unsqueeze(0), hidden)\n",
    "\n",
    "        for _ in range(n_predictions):\n",
    "            output, hidden = self.forward(input_context[-1].unsqueeze(0).unsqueeze(0), hidden)\n",
    "\n",
    "            # Use Categorical distribution to sample from the predicted probabilities\n",
    "            categorical_dist = distributions.Categorical(logits=output.squeeze(0))\n",
    "            predicted_index = categorical_dist.sample().item()\n",
    "            predictions.append(predicted_index)\n",
    "\n",
    "            # Update the context tensor with the new prediction\n",
    "            input_context = torch.cat((input_context, torch.tensor([predicted_index])))\n",
    "\n",
    "        return predictions\n",
    "# Verify that your predictions are not deterministic anymore\n",
    "model = CharRNN(vocab_size=len(vocab), embedding_dim=32, hidden_dim=64)\n",
    "train_overfit(model, input_seq, target_seq, n_iters=1000)"
   ]
  },
  {
   "cell_type": "markdown",
   "id": "9912f5cc-3627-41e8-b5ef-6d30f7c4868a",
   "metadata": {
    "deletable": false,
    "editable": false,
    "nbgrader": {
     "cell_type": "markdown",
     "checksum": "e56bfe8d33a343e270cfe35720aeea26",
     "grade": false,
     "grade_id": "cell-6389d46b2b8abaa0",
     "locked": true,
     "schema_version": 3,
     "solution": false,
     "task": false
    }
   },
   "source": [
    "## 3. Train the RNN model on text data"
   ]
  },
  {
   "cell_type": "markdown",
   "id": "8024df30-af42-4ca9-be0e-16614ead56cb",
   "metadata": {
    "deletable": false,
    "editable": false,
    "nbgrader": {
     "cell_type": "markdown",
     "checksum": "44f87a393c4ae266b59141953d170a7e",
     "grade": false,
     "grade_id": "rnn-train",
     "locked": true,
     "points": 4,
     "schema_version": 3,
     "solution": false,
     "task": true
    }
   },
   "source": [
    "**(Question)** Adapt your previous code to implement a proper training loop for a text dataset. To do so, we need to specify a sequence length `seq_len`, acting similarly to the batch size in classic neural networks. Then, you can either randomly sample sequences of length `seq_len` from the text dataset over `n_iters` iterations, or properly loop over the text dataset for `n_epochs` epochs (with a random starting point for each epoch to ensure different sequences), to make sure the whole dataset is seen by the model. Feel free to adjust training and model parameters empirically. Start with a small model and a small subset of the text dataset, then move on to larger experiments. Remember to use GPU if available."
   ]
  },
  {
   "cell_type": "code",
   "execution_count": 114,
   "id": "f65d237e-d095-45c4-ab12-6307a5bda255",
   "metadata": {
    "deletable": false,
    "nbgrader": {
     "cell_type": "code",
     "checksum": "17faecb7751e77b7fe8cae66820687ea",
     "grade": true,
     "grade_id": "cell-a4695fabcf78e1a8",
     "locked": false,
     "points": 0,
     "schema_version": 3,
     "solution": true,
     "task": false
    }
   },
   "outputs": [
    {
     "name": "stdout",
     "output_type": "stream",
     "text": [
      "Epoch 10/100, Loss: 2.4149956703186035\n",
      "Epoch 20/100, Loss: 2.5526630878448486\n",
      "Epoch 30/100, Loss: 1.6975555419921875\n",
      "Epoch 40/100, Loss: 2.3195462226867676\n",
      "Epoch 50/100, Loss: 2.5276615619659424\n",
      "Epoch 60/100, Loss: 2.3649086952209473\n",
      "Epoch 70/100, Loss: 2.419177532196045\n",
      "Epoch 80/100, Loss: 2.059297561645508\n",
      "Epoch 90/100, Loss: 2.272216558456421\n",
      "Epoch 100/100, Loss: 1.9592567682266235\n"
     ]
    }
   ],
   "source": [
    "# Create the text dataset, compute its mappings and convert it to tensor\n",
    "data_tensor = text_to_tensor(text_data, ctoi)\n",
    "seq_len = 10\n",
    "\n",
    "# Initialize training parameters\n",
    "vocab_size, embedding_dim, hidden_dim = len(vocab), 32, 64\n",
    "\n",
    "\n",
    "# Initialize a character-level RNN model\n",
    "cr_model = CharRNN(vocab_size, embedding_dim, hidden_dim).to(device)\n",
    "\n",
    "# Setup the training loop\n",
    "# Regularly record the loss and sample from the model to monitor what is happening\n",
    "def train_loop(model, data_tensor, seq_len, n_epochs, learning_rate=5e-3):\n",
    "    model.train()\n",
    "    optim = optimizer.Adam(model.parameters(), lr=learning_rate)\n",
    "    loss_function = nn.CrossEntropyLoss()\n",
    "\n",
    "    for epoch in range(n_epochs):\n",
    "        # Randomly choose a starting point for each epoch\n",
    "        start_index = np.random.randint(0, data_tensor.size(0) - seq_len - 1)\n",
    "        hidden = None\n",
    "        for i in range(start_index, data_tensor.size(0) - seq_len, seq_len):\n",
    "            input_seq = data_tensor[i:i+seq_len].unsqueeze(0).to(device)\n",
    "            target_seq = data_tensor[i+1:i+seq_len+1].to(device)\n",
    "\n",
    "            optim.zero_grad()\n",
    "            output, hidden = model(input_seq, hidden)\n",
    "            hidden.detach_()\n",
    "\n",
    "            loss = loss_function(output.squeeze(0), target_seq)\n",
    "            loss.backward()\n",
    "            optim.step()\n",
    "\n",
    "        if (epoch + 1)%10 == 0:\n",
    "            print(f\"Epoch {epoch + 1}/{n_epochs}, Loss: {loss.item()}\")\n",
    "\n",
    "train_loop(cr_model, data_tensor, seq_len, n_epochs=100)\n"
   ]
  },
  {
   "cell_type": "markdown",
   "id": "7a318abd-5c3c-462d-9944-9aec1f78446c",
   "metadata": {
    "deletable": false,
    "editable": false,
    "nbgrader": {
     "cell_type": "markdown",
     "checksum": "113032562a0b82e504d636abf3164360",
     "grade": false,
     "grade_id": "rnn-predict",
     "locked": true,
     "points": 2,
     "schema_version": 3,
     "solution": false,
     "task": true
    }
   },
   "source": [
    "**(Question)** From your trained model, play around with its predictions: start with a custom input sequence and ask the model to predict the rest. Analyze and comment your results."
   ]
  },
  {
   "cell_type": "code",
   "execution_count": 116,
   "id": "53d516b1-477c-4237-956a-471062dd6019",
   "metadata": {
    "deletable": false,
    "nbgrader": {
     "cell_type": "code",
     "checksum": "5bd724d3a1f3ba5d0b965b9cf7905160",
     "grade": true,
     "grade_id": "cell-08bfe03b817a9908",
     "locked": false,
     "points": 0,
     "schema_version": 3,
     "solution": true,
     "task": false
    }
   },
   "outputs": [
    {
     "name": "stdout",
     "output_type": "stream",
     "text": [
      "A kid playing in the playgrou e\n"
     ]
    }
   ],
   "source": [
    "start_text = \"A kid playing in the playgrou\"\n",
    "cr_model.eval()\n",
    "generated_text = start_text\n",
    "n_chars = 2\n",
    "\n",
    "with torch.no_grad():\n",
    "    input_seq = text_to_tensor(start_text, ctoi).to(device)\n",
    "    predicted_indices = cr_model.predict_proba(input_seq, n_predictions=n_chars)\n",
    "    \n",
    "    for idx in predicted_indices :\n",
    "        if idx < len(vocab) :\n",
    "            generated_text += itoc[idx]\n",
    "        else : \n",
    "            print(idx)\n",
    "\n",
    "print(generated_text)"
   ]
  },
  {
   "cell_type": "markdown",
   "id": "ad02a4a5-5aab-403a-9bd3-fd752dc1dc9a",
   "metadata": {
    "deletable": false,
    "nbgrader": {
     "cell_type": "markdown",
     "checksum": "288f4746f3c7d1906ca99b35f4a6a6e3",
     "grade": true,
     "grade_id": "cell-6b41d47e15ea128a",
     "locked": false,
     "points": 0,
     "schema_version": 3,
     "solution": true,
     "task": false
    }
   },
   "source": [
    "## Answer :\n",
    "\n",
    "****"
   ]
  },
  {
   "cell_type": "markdown",
   "id": "7de32122-8819-4d6b-8f7a-e96f671311d6",
   "metadata": {
    "deletable": false,
    "editable": false,
    "nbgrader": {
     "cell_type": "markdown",
     "checksum": "2eddbf9984d6a4d51a7ea1301800bdf3",
     "grade": false,
     "grade_id": "cell-a69a65798f792cfc",
     "locked": true,
     "schema_version": 3,
     "solution": false,
     "task": false
    }
   },
   "source": [
    "## 4. Experiment with different RNN architectures"
   ]
  },
  {
   "cell_type": "markdown",
   "id": "d5def498-9119-45fd-8807-8260cd0a05d8",
   "metadata": {
    "deletable": false,
    "editable": false,
    "nbgrader": {
     "cell_type": "markdown",
     "checksum": "977d70928beb993f5bc6323199b1e363",
     "grade": false,
     "grade_id": "rnn-experiments",
     "locked": true,
     "points": 3,
     "schema_version": 3,
     "solution": false,
     "task": true
    }
   },
   "source": [
    "**(Question)** Experiment with different RNN architecures. Potential ideas are multi-layer RNNs, GRUs and LSTMs. All models can be extended to multi-layer using the `num_layers` parameter. Analyze and comment your results."
   ]
  },
  {
   "cell_type": "code",
   "execution_count": 117,
   "id": "38c6fe7d-d159-401d-9c7c-f7e9a5b86cba",
   "metadata": {
    "deletable": false,
    "nbgrader": {
     "cell_type": "code",
     "checksum": "77ebb731623feb1292e7758788ad56d4",
     "grade": true,
     "grade_id": "cell-7bbcfb8355f44b5d",
     "locked": false,
     "points": 0,
     "schema_version": 3,
     "solution": true,
     "task": false
    }
   },
   "outputs": [
    {
     "name": "stdout",
     "output_type": "stream",
     "text": [
      "Epoch 10/50, Loss: 2.5696303844451904\n",
      "Epoch 20/50, Loss: 1.9924137592315674\n",
      "Epoch 30/50, Loss: 1.9971141815185547\n",
      "Epoch 40/50, Loss: 2.291541576385498\n",
      "Epoch 50/50, Loss: 1.968225121498108\n"
     ]
    }
   ],
   "source": [
    "cr_model_3 = CharRNN(vocab_size, embedding_dim, hidden_dim, num_layers=3)\n",
    "train_loop(cr_model_3, data_tensor, seq_len, n_epochs=50)"
   ]
  },
  {
   "cell_type": "code",
   "execution_count": 118,
   "id": "36b21804",
   "metadata": {},
   "outputs": [
    {
     "name": "stdout",
     "output_type": "stream",
     "text": [
      "A kid playing in the playgrou b\n"
     ]
    }
   ],
   "source": [
    "start_text = \"A kid playing in the playgrou\"\n",
    "cr_model_3.eval()\n",
    "generated_text = start_text\n",
    "n_chars = 2\n",
    "\n",
    "with torch.no_grad():\n",
    "    input_seq = text_to_tensor(start_text, ctoi).to(device)\n",
    "    predicted_indices = cr_model_3.predict_proba(input_seq, n_predictions=n_chars)\n",
    "    \n",
    "    for idx in predicted_indices :\n",
    "        if idx < len(vocab) :\n",
    "            generated_text += itoc[idx]\n",
    "        else : \n",
    "            print(idx)\n",
    "\n",
    "print(generated_text)"
   ]
  },
  {
   "cell_type": "code",
   "execution_count": 137,
   "id": "85cf96ef",
   "metadata": {},
   "outputs": [],
   "source": [
    "class LSTMModel(nn.Module):\n",
    "    def __init__(self, vocab_size, embedding_dim, hidden_dim, num_layers=1):\n",
    "        '''Initialize model parameters and layers.'''\n",
    "        super(LSTMModel, self).__init__()\n",
    "        self.emb = nn.Embedding(vocab_size, embedding_dim)\n",
    "        self.lstm = nn.LSTM(embedding_dim, hidden_dim, num_layers=num_layers, batch_first=True)\n",
    "        self.lin = nn.Linear(hidden_dim, vocab_size)\n",
    "\n",
    "    def forward(self, tensor_data, hidden_state=None):\n",
    "        '''Apply the forward pass for some text data already converted to tensor.'''\n",
    "        output = self.emb(tensor_data)\n",
    "        output, hidden = self.lstm(output, hidden_state)\n",
    "        output = self.lin(output)\n",
    "        return output, hidden\n",
    "\n",
    "    def predict_proba(self, input_context, n_predictions):\n",
    "        predictions, hidden = [], None\n",
    "\n",
    "        for char_index in input_context:\n",
    "            output, hidden = self.forward(char_index.unsqueeze(0).unsqueeze(0), hidden)\n",
    "\n",
    "        for _ in range(n_predictions):\n",
    "            output, hidden = self.forward(input_context[-1].unsqueeze(0).unsqueeze(0), hidden)\n",
    "\n",
    "            # Use Categorical distribution to sample from the predicted probabilities\n",
    "            categorical_dist = distributions.Categorical(logits=output.squeeze(0))\n",
    "            predicted_index = categorical_dist.sample().item()\n",
    "            predictions.append(predicted_index)\n",
    "\n",
    "            # Update the context tensor with the new prediction\n",
    "            input_context = torch.cat((input_context, torch.tensor([predicted_index])))\n",
    "\n",
    "        return predictions\n",
    "\n",
    "\n",
    "def train_loop_lstm(model, data_tensor, seq_len, n_epochs, learning_rate=5e-3):\n",
    "    model.train()\n",
    "    optim = optimizer.Adam(model.parameters(), lr=learning_rate)\n",
    "    loss_function = nn.CrossEntropyLoss()\n",
    "\n",
    "    for epoch in range(n_epochs):\n",
    "        # Randomly choose a starting point for each epoch\n",
    "        start_index = np.random.randint(0, data_tensor.size(0) - seq_len - 1)\n",
    "        hidden = None\n",
    "        for i in range(start_index, data_tensor.size(0) - seq_len, seq_len):\n",
    "            input_seq = data_tensor[i:i+seq_len].unsqueeze(0).to(device)\n",
    "            target_seq = data_tensor[i+1:i+seq_len+1].to(device)\n",
    "\n",
    "            optim.zero_grad()\n",
    "            output, hidden = model(input_seq, hidden)\n",
    "            hidden = tuple(h.detach() for h in hidden)\n",
    "\n",
    "            loss = loss_function(output.squeeze(0), target_seq)\n",
    "            loss.backward()\n",
    "            optim.step()\n",
    "\n",
    "        if (epoch + 1)%10 == 0:\n",
    "            print(f\"Epoch {epoch + 1}/{n_epochs}, Loss: {loss.item()}\")"
   ]
  },
  {
   "cell_type": "code",
   "execution_count": 139,
   "id": "75b2d427",
   "metadata": {},
   "outputs": [
    {
     "name": "stdout",
     "output_type": "stream",
     "text": [
      "Epoch 10/50, Loss: 1.2888818979263306\n",
      "Epoch 20/50, Loss: 1.8630107641220093\n",
      "Epoch 30/50, Loss: 1.9078855514526367\n",
      "Epoch 40/50, Loss: 1.7482788562774658\n",
      "Epoch 50/50, Loss: 1.1762248277664185\n"
     ]
    }
   ],
   "source": [
    "lstm_model = LSTMModel(vocab_size, embedding_dim, hidden_dim)\n",
    "train_loop_lstm(lstm_model, data_tensor, seq_len, n_epochs=50)"
   ]
  },
  {
   "cell_type": "code",
   "execution_count": 141,
   "id": "6f67af73",
   "metadata": {},
   "outputs": [
    {
     "name": "stdout",
     "output_type": "stream",
     "text": [
      "A kid playing in the playgrousi\n"
     ]
    }
   ],
   "source": [
    "start_text = \"A kid playing in the playgrou\"\n",
    "lstm_model.eval()\n",
    "generated_text = start_text\n",
    "n_chars = 2\n",
    "\n",
    "with torch.no_grad():\n",
    "    input_seq = text_to_tensor(start_text, ctoi).to(device)\n",
    "    predicted_indices = lstm_model.predict_proba(input_seq, n_predictions=n_chars)\n",
    "    \n",
    "    for idx in predicted_indices :\n",
    "        if idx < len(vocab) :\n",
    "            generated_text += itoc[idx]\n",
    "        else : \n",
    "            print(idx)\n",
    "\n",
    "print(generated_text)"
   ]
  },
  {
   "cell_type": "markdown",
   "id": "13329eaa-6a48-47cf-912d-424a79680f91",
   "metadata": {
    "deletable": false,
    "nbgrader": {
     "cell_type": "markdown",
     "checksum": "5bffac2e6bdfed739aea204b3c40a792",
     "grade": true,
     "grade_id": "cell-3961b7f97f038a4b",
     "locked": false,
     "points": 0,
     "schema_version": 3,
     "solution": true,
     "task": false
    }
   },
   "source": [
    "## Answer :\n",
    "\n",
    "****"
   ]
  },
  {
   "cell_type": "markdown",
   "id": "9efde269",
   "metadata": {},
   "source": []
  }
 ],
 "metadata": {
  "interpreter": {
   "hash": "aee8b7b246df8f9039afb4144a1f6fd8d2ca17a180786b69acc140d282b71a49"
  },
  "kernelspec": {
   "display_name": "Python 3.10.0 64-bit",
   "language": "python",
   "name": "python3"
  },
  "language_info": {
   "codemirror_mode": {
    "name": "ipython",
    "version": 3
   },
   "file_extension": ".py",
   "mimetype": "text/x-python",
   "name": "python",
   "nbconvert_exporter": "python",
   "pygments_lexer": "ipython3",
   "version": "3.10.0"
  }
 },
 "nbformat": 4,
 "nbformat_minor": 5
}
